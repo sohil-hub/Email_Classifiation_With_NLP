{
 "cells": [
  {
   "cell_type": "markdown",
   "metadata": {
    "id": "3fkR9PHJFeVG"
   },
   "source": [
    "#From Scratch Using nltk"
   ]
  },
  {
   "cell_type": "markdown",
   "metadata": {
    "id": "cRU726YOSG_d"
   },
   "source": [
    "##Data Preprocessing"
   ]
  },
  {
   "cell_type": "code",
   "execution_count": 14,
   "metadata": {
    "colab": {
     "base_uri": "https://localhost:8080/",
     "height": 204
    },
    "id": "CONo9nwZFqJk",
    "outputId": "1b106025-8c9b-4266-b913-db4764cf66da"
   },
   "outputs": [
    {
     "data": {
      "text/html": [
       "<div>\n",
       "<style scoped>\n",
       "    .dataframe tbody tr th:only-of-type {\n",
       "        vertical-align: middle;\n",
       "    }\n",
       "\n",
       "    .dataframe tbody tr th {\n",
       "        vertical-align: top;\n",
       "    }\n",
       "\n",
       "    .dataframe thead th {\n",
       "        text-align: right;\n",
       "    }\n",
       "</style>\n",
       "<table border=\"1\" class=\"dataframe\">\n",
       "  <thead>\n",
       "    <tr style=\"text-align: right;\">\n",
       "      <th></th>\n",
       "      <th>Category</th>\n",
       "      <th>Message</th>\n",
       "    </tr>\n",
       "  </thead>\n",
       "  <tbody>\n",
       "    <tr>\n",
       "      <th>0</th>\n",
       "      <td>ham</td>\n",
       "      <td>Go until jurong point, crazy.. Available only ...</td>\n",
       "    </tr>\n",
       "    <tr>\n",
       "      <th>1</th>\n",
       "      <td>ham</td>\n",
       "      <td>Ok lar... Joking wif u oni...</td>\n",
       "    </tr>\n",
       "    <tr>\n",
       "      <th>2</th>\n",
       "      <td>spam</td>\n",
       "      <td>Free entry in 2 a wkly comp to win FA Cup fina...</td>\n",
       "    </tr>\n",
       "    <tr>\n",
       "      <th>3</th>\n",
       "      <td>ham</td>\n",
       "      <td>U dun say so early hor... U c already then say...</td>\n",
       "    </tr>\n",
       "    <tr>\n",
       "      <th>4</th>\n",
       "      <td>ham</td>\n",
       "      <td>Nah I don't think he goes to usf, he lives aro...</td>\n",
       "    </tr>\n",
       "  </tbody>\n",
       "</table>\n",
       "</div>"
      ],
      "text/plain": [
       "  Category                                            Message\n",
       "0      ham  Go until jurong point, crazy.. Available only ...\n",
       "1      ham                      Ok lar... Joking wif u oni...\n",
       "2     spam  Free entry in 2 a wkly comp to win FA Cup fina...\n",
       "3      ham  U dun say so early hor... U c already then say...\n",
       "4      ham  Nah I don't think he goes to usf, he lives aro..."
      ]
     },
     "execution_count": 14,
     "metadata": {},
     "output_type": "execute_result"
    }
   ],
   "source": [
    "import pandas as pd\n",
    "df = pd.read_csv('data.csv')\n",
    "df.head()"
   ]
  },
  {
   "cell_type": "code",
   "execution_count": 15,
   "metadata": {
    "colab": {
     "base_uri": "https://localhost:8080/",
     "height": 173
    },
    "id": "rDMc6KuoFtYd",
    "outputId": "99fdbbfb-09e8-4eb0-abae-65f282ab23b0"
   },
   "outputs": [
    {
     "data": {
      "text/html": [
       "<div>\n",
       "<style scoped>\n",
       "    .dataframe tbody tr th:only-of-type {\n",
       "        vertical-align: middle;\n",
       "    }\n",
       "\n",
       "    .dataframe tbody tr th {\n",
       "        vertical-align: top;\n",
       "    }\n",
       "\n",
       "    .dataframe thead tr th {\n",
       "        text-align: left;\n",
       "    }\n",
       "\n",
       "    .dataframe thead tr:last-of-type th {\n",
       "        text-align: right;\n",
       "    }\n",
       "</style>\n",
       "<table border=\"1\" class=\"dataframe\">\n",
       "  <thead>\n",
       "    <tr>\n",
       "      <th></th>\n",
       "      <th colspan=\"4\" halign=\"left\">Message</th>\n",
       "    </tr>\n",
       "    <tr>\n",
       "      <th></th>\n",
       "      <th>count</th>\n",
       "      <th>unique</th>\n",
       "      <th>top</th>\n",
       "      <th>freq</th>\n",
       "    </tr>\n",
       "    <tr>\n",
       "      <th>Category</th>\n",
       "      <th></th>\n",
       "      <th></th>\n",
       "      <th></th>\n",
       "      <th></th>\n",
       "    </tr>\n",
       "  </thead>\n",
       "  <tbody>\n",
       "    <tr>\n",
       "      <th>ham</th>\n",
       "      <td>4825</td>\n",
       "      <td>4516</td>\n",
       "      <td>Sorry, I'll call later</td>\n",
       "      <td>30</td>\n",
       "    </tr>\n",
       "    <tr>\n",
       "      <th>spam</th>\n",
       "      <td>747</td>\n",
       "      <td>641</td>\n",
       "      <td>Please call our customer service representativ...</td>\n",
       "      <td>4</td>\n",
       "    </tr>\n",
       "  </tbody>\n",
       "</table>\n",
       "</div>"
      ],
      "text/plain": [
       "         Message                                                            \\\n",
       "           count unique                                                top   \n",
       "Category                                                                     \n",
       "ham         4825   4516                             Sorry, I'll call later   \n",
       "spam         747    641  Please call our customer service representativ...   \n",
       "\n",
       "               \n",
       "         freq  \n",
       "Category       \n",
       "ham        30  \n",
       "spam        4  "
      ]
     },
     "execution_count": 15,
     "metadata": {},
     "output_type": "execute_result"
    }
   ],
   "source": [
    "df.groupby(by='Category').describe()"
   ]
  },
  {
   "cell_type": "code",
   "execution_count": 16,
   "metadata": {
    "colab": {
     "base_uri": "https://localhost:8080/"
    },
    "id": "L3TINb4LFwdG",
    "outputId": "c35e877f-d460-4d6e-aba8-d1f31b15036f"
   },
   "outputs": [
    {
     "data": {
      "text/plain": [
       "ham     4825\n",
       "spam     747\n",
       "Name: Category, dtype: int64"
      ]
     },
     "execution_count": 16,
     "metadata": {},
     "output_type": "execute_result"
    }
   ],
   "source": [
    "df.Category.value_counts()"
   ]
  },
  {
   "cell_type": "markdown",
   "metadata": {
    "id": "aJapFM8fPhCg"
   },
   "source": [
    "The dataset is skewed towards one class, an imbalanced dataset. There are several ways to deal with this kind of problems.\n",
    "(1)Oversampling:- In which we oversample the examples of a class which has less samples.\n",
    "(2)Downsampling:- In which we Downsample(means removing examples) the class which has large samples.\n",
    "\n",
    "We will be using second option to deal with this problem."
   ]
  },
  {
   "cell_type": "code",
   "execution_count": 17,
   "metadata": {
    "colab": {
     "base_uri": "https://localhost:8080/"
    },
    "id": "BjBMcB14Fz3C",
    "outputId": "eaa1f19f-968c-46d0-ff7f-82d78dcb04e5"
   },
   "outputs": [
    {
     "data": {
      "text/plain": [
       "(747, 2)"
      ]
     },
     "execution_count": 17,
     "metadata": {},
     "output_type": "execute_result"
    }
   ],
   "source": [
    "df_spam = df[df['Category'] == 'spam']\n",
    "df_spam.shape"
   ]
  },
  {
   "cell_type": "code",
   "execution_count": 18,
   "metadata": {
    "colab": {
     "base_uri": "https://localhost:8080/"
    },
    "id": "ckYiuJ5CF3M9",
    "outputId": "1c94e996-23f4-48ce-9243-a76659a1bc1f"
   },
   "outputs": [
    {
     "data": {
      "text/plain": [
       "(4825, 2)"
      ]
     },
     "execution_count": 18,
     "metadata": {},
     "output_type": "execute_result"
    }
   ],
   "source": [
    "df_ham = df[df['Category'] == 'ham']\n",
    "df_ham.shape"
   ]
  },
  {
   "cell_type": "code",
   "execution_count": 19,
   "metadata": {
    "colab": {
     "base_uri": "https://localhost:8080/"
    },
    "id": "tJc4S29GF6G8",
    "outputId": "d74aa784-a290-49e0-e9cf-6e9e52a0ea7e"
   },
   "outputs": [
    {
     "data": {
      "text/plain": [
       "(747, 2)"
      ]
     },
     "execution_count": 19,
     "metadata": {},
     "output_type": "execute_result"
    }
   ],
   "source": [
    "df_ham_downsampled = df_ham.sample(df_spam.shape[0])\n",
    "df_ham_downsampled.shape"
   ]
  },
  {
   "cell_type": "code",
   "execution_count": 20,
   "metadata": {
    "colab": {
     "base_uri": "https://localhost:8080/"
    },
    "id": "BgtbUharGHW1",
    "outputId": "bd839a80-538a-4f6a-f9b2-ed70dda0f5f3"
   },
   "outputs": [
    {
     "data": {
      "text/plain": [
       "(1494, 2)"
      ]
     },
     "execution_count": 20,
     "metadata": {},
     "output_type": "execute_result"
    }
   ],
   "source": [
    "df_balanced = pd.concat([df_ham_downsampled, df_spam])\n",
    "df_balanced.shape"
   ]
  },
  {
   "cell_type": "code",
   "execution_count": 21,
   "metadata": {
    "id": "f4CPXXuRGMYs"
   },
   "outputs": [],
   "source": [
    "df_balanced = df_balanced.sample(frac=1)"
   ]
  },
  {
   "cell_type": "code",
   "execution_count": 22,
   "metadata": {
    "colab": {
     "base_uri": "https://localhost:8080/"
    },
    "id": "wmPYDEWmGRPJ",
    "outputId": "aea5d086-9dfb-4200-a7ae-ed54abf9b537"
   },
   "outputs": [
    {
     "data": {
      "text/plain": [
       "1494"
      ]
     },
     "execution_count": 22,
     "metadata": {},
     "output_type": "execute_result"
    }
   ],
   "source": [
    "df_balanced['spam'] = df_balanced['Category'].apply(lambda x: 1 if x=='spam' else 0)\n",
    "len(df_balanced)"
   ]
  },
  {
   "cell_type": "code",
   "execution_count": 23,
   "metadata": {
    "colab": {
     "base_uri": "https://localhost:8080/",
     "height": 419
    },
    "id": "1zFvjKr0MtVV",
    "outputId": "675c8f57-03d6-4efd-f655-ae9e1394a5b1"
   },
   "outputs": [
    {
     "data": {
      "text/html": [
       "<div>\n",
       "<style scoped>\n",
       "    .dataframe tbody tr th:only-of-type {\n",
       "        vertical-align: middle;\n",
       "    }\n",
       "\n",
       "    .dataframe tbody tr th {\n",
       "        vertical-align: top;\n",
       "    }\n",
       "\n",
       "    .dataframe thead th {\n",
       "        text-align: right;\n",
       "    }\n",
       "</style>\n",
       "<table border=\"1\" class=\"dataframe\">\n",
       "  <thead>\n",
       "    <tr style=\"text-align: right;\">\n",
       "      <th></th>\n",
       "      <th>Category</th>\n",
       "      <th>Message</th>\n",
       "      <th>spam</th>\n",
       "    </tr>\n",
       "  </thead>\n",
       "  <tbody>\n",
       "    <tr>\n",
       "      <th>0</th>\n",
       "      <td>ham</td>\n",
       "      <td>Are you there in room.</td>\n",
       "      <td>0</td>\n",
       "    </tr>\n",
       "    <tr>\n",
       "      <th>1</th>\n",
       "      <td>spam</td>\n",
       "      <td>Your free ringtone is waiting to be collected....</td>\n",
       "      <td>1</td>\n",
       "    </tr>\n",
       "    <tr>\n",
       "      <th>2</th>\n",
       "      <td>ham</td>\n",
       "      <td>What time. I‘m out until prob 3 or so</td>\n",
       "      <td>0</td>\n",
       "    </tr>\n",
       "    <tr>\n",
       "      <th>3</th>\n",
       "      <td>ham</td>\n",
       "      <td>It is only yesterday true true.</td>\n",
       "      <td>0</td>\n",
       "    </tr>\n",
       "    <tr>\n",
       "      <th>4</th>\n",
       "      <td>ham</td>\n",
       "      <td>Went to pay rent. So i had to go to the bank t...</td>\n",
       "      <td>0</td>\n",
       "    </tr>\n",
       "    <tr>\n",
       "      <th>...</th>\n",
       "      <td>...</td>\n",
       "      <td>...</td>\n",
       "      <td>...</td>\n",
       "    </tr>\n",
       "    <tr>\n",
       "      <th>1489</th>\n",
       "      <td>spam</td>\n",
       "      <td>You won't believe it but it's true. It's Incre...</td>\n",
       "      <td>1</td>\n",
       "    </tr>\n",
       "    <tr>\n",
       "      <th>1490</th>\n",
       "      <td>spam</td>\n",
       "      <td>If you don't, your prize will go to another cu...</td>\n",
       "      <td>1</td>\n",
       "    </tr>\n",
       "    <tr>\n",
       "      <th>1491</th>\n",
       "      <td>ham</td>\n",
       "      <td>O shore are you takin the bus</td>\n",
       "      <td>0</td>\n",
       "    </tr>\n",
       "    <tr>\n",
       "      <th>1492</th>\n",
       "      <td>ham</td>\n",
       "      <td>How much did ur hdd casing cost.</td>\n",
       "      <td>0</td>\n",
       "    </tr>\n",
       "    <tr>\n",
       "      <th>1493</th>\n",
       "      <td>spam</td>\n",
       "      <td>Sorry I missed your call let's talk when you h...</td>\n",
       "      <td>1</td>\n",
       "    </tr>\n",
       "  </tbody>\n",
       "</table>\n",
       "<p>1494 rows × 3 columns</p>\n",
       "</div>"
      ],
      "text/plain": [
       "     Category                                            Message  spam\n",
       "0         ham                             Are you there in room.     0\n",
       "1        spam  Your free ringtone is waiting to be collected....     1\n",
       "2         ham              What time. I‘m out until prob 3 or so     0\n",
       "3         ham                    It is only yesterday true true.     0\n",
       "4         ham  Went to pay rent. So i had to go to the bank t...     0\n",
       "...       ...                                                ...   ...\n",
       "1489     spam  You won't believe it but it's true. It's Incre...     1\n",
       "1490     spam  If you don't, your prize will go to another cu...     1\n",
       "1491      ham                      O shore are you takin the bus     0\n",
       "1492      ham                   How much did ur hdd casing cost.     0\n",
       "1493     spam  Sorry I missed your call let's talk when you h...     1\n",
       "\n",
       "[1494 rows x 3 columns]"
      ]
     },
     "execution_count": 23,
     "metadata": {},
     "output_type": "execute_result"
    }
   ],
   "source": [
    "df_balanced.reset_index(drop=True)"
   ]
  },
  {
   "cell_type": "code",
   "execution_count": 24,
   "metadata": {
    "colab": {
     "base_uri": "https://localhost:8080/",
     "height": 204
    },
    "id": "_CXbZzJoLnBX",
    "outputId": "01715e53-6f94-4e0e-cc93-1ca9bb401963"
   },
   "outputs": [
    {
     "data": {
      "text/html": [
       "<div>\n",
       "<style scoped>\n",
       "    .dataframe tbody tr th:only-of-type {\n",
       "        vertical-align: middle;\n",
       "    }\n",
       "\n",
       "    .dataframe tbody tr th {\n",
       "        vertical-align: top;\n",
       "    }\n",
       "\n",
       "    .dataframe thead th {\n",
       "        text-align: right;\n",
       "    }\n",
       "</style>\n",
       "<table border=\"1\" class=\"dataframe\">\n",
       "  <thead>\n",
       "    <tr style=\"text-align: right;\">\n",
       "      <th></th>\n",
       "      <th>Category</th>\n",
       "      <th>Message</th>\n",
       "      <th>spam</th>\n",
       "    </tr>\n",
       "  </thead>\n",
       "  <tbody>\n",
       "    <tr>\n",
       "      <th>5409</th>\n",
       "      <td>ham</td>\n",
       "      <td>There is a first time for everything :)</td>\n",
       "      <td>0</td>\n",
       "    </tr>\n",
       "    <tr>\n",
       "      <th>3651</th>\n",
       "      <td>ham</td>\n",
       "      <td>We are hoping to get away by 7, from Langport....</td>\n",
       "      <td>0</td>\n",
       "    </tr>\n",
       "    <tr>\n",
       "      <th>787</th>\n",
       "      <td>ham</td>\n",
       "      <td>It does it on its own. Most of the time it fix...</td>\n",
       "      <td>0</td>\n",
       "    </tr>\n",
       "    <tr>\n",
       "      <th>128</th>\n",
       "      <td>ham</td>\n",
       "      <td>Are you there in room.</td>\n",
       "      <td>0</td>\n",
       "    </tr>\n",
       "    <tr>\n",
       "      <th>3577</th>\n",
       "      <td>ham</td>\n",
       "      <td>The sign of maturity is not when we start sayi...</td>\n",
       "      <td>0</td>\n",
       "    </tr>\n",
       "  </tbody>\n",
       "</table>\n",
       "</div>"
      ],
      "text/plain": [
       "     Category                                            Message  spam\n",
       "5409      ham            There is a first time for everything :)     0\n",
       "3651      ham  We are hoping to get away by 7, from Langport....     0\n",
       "787       ham  It does it on its own. Most of the time it fix...     0\n",
       "128       ham                             Are you there in room.     0\n",
       "3577      ham  The sign of maturity is not when we start sayi...     0"
      ]
     },
     "execution_count": 24,
     "metadata": {},
     "output_type": "execute_result"
    }
   ],
   "source": [
    "df_balanced.sample(5)"
   ]
  },
  {
   "cell_type": "markdown",
   "metadata": {
    "id": "swzoXGMwSN1d"
   },
   "source": [
    "##Text Preprocessing"
   ]
  },
  {
   "cell_type": "code",
   "execution_count": 25,
   "metadata": {
    "id": "__4xghhdGT1S"
   },
   "outputs": [],
   "source": [
    "import matplotlib.pyplot as plt\n",
    "import nltk"
   ]
  },
  {
   "cell_type": "code",
   "execution_count": 26,
   "metadata": {
    "colab": {
     "base_uri": "https://localhost:8080/"
    },
    "id": "3FRZdebxGm7o",
    "outputId": "2d58dab3-15ed-42cb-89e6-004dee02b59c"
   },
   "outputs": [
    {
     "name": "stderr",
     "output_type": "stream",
     "text": [
      "[nltk_data] Downloading package stopwords to\n",
      "[nltk_data]     /Users/mohammedsohilshaikh/nltk_data...\n",
      "[nltk_data]   Unzipping corpora/stopwords.zip.\n",
      "[nltk_data] Downloading package wordnet to\n",
      "[nltk_data]     /Users/mohammedsohilshaikh/nltk_data...\n",
      "[nltk_data]   Unzipping corpora/wordnet.zip.\n"
     ]
    },
    {
     "data": {
      "text/plain": [
       "True"
      ]
     },
     "execution_count": 26,
     "metadata": {},
     "output_type": "execute_result"
    }
   ],
   "source": [
    "nltk.download('stopwords')\n",
    "nltk.download('wordnet')"
   ]
  },
  {
   "cell_type": "code",
   "execution_count": 27,
   "metadata": {
    "id": "Ml9KQtvXGpS2"
   },
   "outputs": [],
   "source": [
    "from nltk.tokenize import RegexpTokenizer\n",
    "from nltk.corpus import stopwords\n",
    "from nltk.stem import WordNetLemmatizer\n",
    "my_corpus = []\n",
    "\n",
    "for i in range(1494):\n",
    "  text = df_balanced.iloc[i, -2]\n",
    "  tokenizer = RegexpTokenizer(r'\\w+')\n",
    "  tokenized_words = tokenizer.tokenize(text.lower())\n",
    "  stop_words = stopwords.words('english')\n",
    "  lemmatizer = WordNetLemmatizer()\n",
    "  words_without_stopwords = [lemmatizer.lemmatize(word) for word in tokenized_words if word not in set(stop_words)]\n",
    "  final_words = ' '.join(words_without_stopwords)\n",
    "  my_corpus.append(final_words)"
   ]
  },
  {
   "cell_type": "code",
   "execution_count": 28,
   "metadata": {
    "colab": {
     "base_uri": "https://localhost:8080/"
    },
    "id": "FfWgVeXGN3oT",
    "outputId": "4d2df858-6494-48bd-b289-ae426cc07ac2"
   },
   "outputs": [
    {
     "name": "stdout",
     "output_type": "stream",
     "text": [
      "['room', 'free ringtone waiting collected simply text password mix 85069 verify get usher britney fml po box 5249 mk17 92h 450ppw 16', 'time prob 3', 'yesterday true true', 'went pay rent go bank authorise payment', 'guy leaving', 'havent still waitin usual ü come back sch oredi', 'sent jd customer service cum account executive ur mail id detail contact u', '4 costa del sol holiday 5000 await collection call 09050090044 toclaim sae tc pobox334 stockport sk38xh cost 1 50 pm max10mins', 'sm ac sptv new jersey devil detroit red wing play ice hockey correct incorrect end reply end sptv', 'so amount get pls', 'okey doke home dressed co laying around ill speak later bout time stuff', 'congrats 2 mobile 3g videophones r call 09063458130 videochat wid mate play java game dload polyph music noline rentl', 'oh thanks lot already bought 2 egg', 'use foreign stamp country good lecture', 'k text way', 'contacted dating service someone know find call land line 09050000878 pobox45w2tg150p', 'urgent mobile 077xxx 2 000 bonus caller prize 02 06 03 2nd attempt reach call 09066362206 asap box97n7qp 150ppm', 'driving training', 'filthy story girl waiting', 'much buzy', 'private 2003 account statement 07808 xxxxxx show 800 un redeemed point call 08719899217 identifier code 41685 expires 07 11 04', 'alrite sam nic checkin ur number b', 'message important information o2 user today lucky day 2 find log onto http www urawinner com fantastic surprise awaiting', 'night ended another day morning come special way may smile like sunny ray leaf worry blue blue bay gud mrng', 'hey morning come ask pa', 'k 2marrow coming class', 'tell who pls', 'asked 3mobile 0870 chatlines inclu free min india cust servs sed yes l8er got mega bill 3 dont giv shit bailiff due day 250 3 want 800', 'tiwary rcb battle bang kochi', 'regret inform u nh made mistake u never actually born please report 2 yor local hospital 2b terminated r sorry 4 inconvenience', 'sign maturity start saying big thing actually start understanding small thing nice evening bslvyl', 'themob yo yo yo come new selection hot downloads member get free click open next link sent ur fone', 'last chance 2 claim ur 150 worth discount voucher text yes 85023 savamob member offer mobile c 08717898035 3 00 sub 16 remove txt x stop', 'good need receipt well done yes please tell number could ring', 'hmv bonus special 500 pound genuine hmv voucher answer 4 easy question play send hmv 86688 info www 100percent real com', 'ok good making money', 'way', 'lol always convincing', 'please call customer service representative freephone 0808 145 4742 9am 11pm guaranteed 1000 cash 5000 prize', 'want 2 get laid tonight want real dogging location sent direct 2 ur mob join uk largest dogging network txting moan 69888nyt ec2a 31p msg 150p', 'wanna get laid 2nite want real dogging location sent direct ur mobile join uk largest dogging network txt park 69696 nyt ec2a 3lp 1 50 msg', 'coming whatever want', 'please call customer service representative 0800 169 6031 10am 9pm guaranteed 1000 cash 5000 prize', 'freemsg record indicate may entitled 3750 pound accident claim free reply yes msg opt text stop', 'saw guy doll last night patrick swayze great', 'sir waiting call', 'urgent please call 09061743810 landline abta complimentary 4 tenerife holiday 5000 cash await collection sae c box 326 cw25wx 150 ppm', 'freemsg fav xmas tone reply real', 'important customer service announcement premier', 'u secret admirer reveal think u r special call 09065174042 opt reply reveal stop 1 50 per msg recd cust care 07821230901', '3 free tarot text find love life try 3 free text chance 85555 16 3 free msg 1 50', 'sunshine hols claim ur med holiday send stamped self address envelope drink u uk po box 113 bray wicklow eire quiz start saturday unsub stop', 'big brother alert computer selected u 10k cash 150 voucher call 09064018838 ntt po box cro1327 18 bt landline cost 150ppm mobile vary', 'contract mobile 11 mnths latest motorola nokia etc free double min text orange tariff text yes callback remove record', 'text banneduk 89555 see cost 150p textoperator g696ga 18 xxx', 'six chance win cash 100 20 000 pound txt csh11 send 87575 cost 150p day 6days 16 tsandcs apply reply hl 4 info', 'romcapspam everyone around responding well presence since warm outgoing bringing real breath sunshine', 'dear umma called', 'win urgent mobile number awarded 2000 prize guaranteed call 09061790121 land line claim 3030 valid 12hrs 150ppm', 'either idea know anyplaces something', 'watching tv lor funny bluff 4 wat izzit thk impossible u', 'u reach orchard already u wan 2 go buy ticket first', 'txt call 86888 claim reward 3 hour talk time use phone subscribe6gbp mnth inc 3hrs 16 stop txtstop www gamb tv', 'free2day sexy st george day pic jordan txt pic 89080 dont miss every wk saucy celeb 4 pic c pocketbabe co uk 0870241182716 3 wk', '1 nokia tone 4 ur mob every week txt nok 87021 1st tone free get txtin tell ur friend 150p tone 16 reply hl 4info', 'someone u know asked dating service 2 contact cant guess call 09058091854 revealed po box385 m6 6wu', 'please call 08712402578 immediately urgent message waiting', '2nd time tried contact u u 1450 prize claim call 09053750005 b4 310303 c stop sm 08718725756 140ppm', 'registered subscriber yr draw 4 100 gift voucher b entered receipt correct an next olympics txt an 80062', 'urgent ur awarded complimentary trip eurodisinc trav aco entry41 1000 claim txt dis 87121 18 6 1 50 morefrmmob shracomorsglsuplt 10 ls1 3aj', 'mobile customer may claim free camera phone upgrade pay go sim card loyalty call 0845 021 3680 offer end 28thfeb c apply', 'oh okie lor go sat', 'tried call reply sm video mobile 750 min unlimited text free camcorder reply call 08000930705 del thurs', 'hi ya babe x u 4goten bout scammer getting smart though regular vodafone respond get prem rate msg subscription no used also beware', 'dear got lt gt dollar hi hi', 'reaching another 2 stop', 'tel software name', 'lay man let know missed thought great day send bimbo ugo number ill appreciate safe', 'loan purpose 500 75 000 homeowner tenant welcome previously refused still help call free 0800 1956669 text back help', 'december mobile 11mths entitled update latest colour camera mobile free call mobile update vco free 08002986906', 'hello going village pub 8 either come accordingly ok', 'adult 18 content video shortly', 'sent score sophas secondary application school think thinking applying research cost also contact joke ogunrinde school one le expensive one', 'want explicit sex 30 sec ring 02073162414 cost 20p min', 'p u ur grown right', 'chance reality fantasy show call 08707509020 20p per min ntt ltd po box 1327 croydon cr9 5wb 0870 national rate call', 'sent scream moan bed princess', 'prabha soryda realy frm heart sory', 'spook mob halloween collection logo pic message plus free eerie tone txt card spook 8007 zed 08701417012150p per logo pic', 'http tm widelive com index wml id 820554ad0a1705572711 first true c c ringtone', 'hmv bonus special 500 pound genuine hmv voucher answer 4 easy question play send hmv 86688 info www 100percent real com', 'hiya comin 2 bristol 1 st week april le got rudi new yr eve snoring drunk u bak college yet work sends ink 2 bath', 'evening v good somewhat event laden fill worry head ok throat wrecked see six', 'hungry gay guy feeling hungry 4 call 08718730555 10p min stop text call 08712460324 10p min', 'taking part mobile survey yesterday 500 text 2 use however wish 2 get txts send txt 80160 c www txt43 com 1 50p', 'well pattern emerging friend telling drive come smoke telling weed fiend make smoke much impede thing see hesitant', 'hi lucy hubby meetins day fri b alone hotel u fancy cumin pls leave msg 2day 09099726395 lucy x call 1 minmobsmorelkpobox177hp51fl', 'pls send address sir', 'sent type food like', '4 taco 1 raja burrito right', 'remember hurt day satanic imposter need pay price may destiny keep going u said pray get mind get', 'heard u4 call 4 rude chat private line 01223585334 cum wan 2c pic gettin shagged text pix 8552 2end send stop 8552 sam xxx', 'sunshine hols claim ur med holiday send stamped self address envelope drink u uk po box 113 bray wicklow eire quiz start saturday unsub stop', 'valentine game send dis msg ur friend 5 answer r someone really love u ques colour suit best rply', 'hiya sorry hav signal seen heard neither unusual put case get sort hug snogs', 'win 200 shopping spree every week starting 2 play text store 88039 skilgme tscs08714740323 1winawk age16 1 50perweeksub', 'ur balance 500 ur next question sang uptown girl 80 2 answer txt ur answer 83600 good luck', 'search 4 happiness 1 main source unhappiness accept life way come u find happiness every moment u live', 'yes really great bhaji told kallis best cricketer sachin world tough get', 'free message thanks using auction subscription service 18 150p msgrcvd 2 skip auction txt 2 unsubscribe txt stop customercare 08718726270', 'private 2003 account statement fone show 800 un redeemed point call 08715203656 identifier code 42049 expires 26 10 04', 'dont forget place many free request 1stchoice co uk wish information call 08707808226', 'work right', 'thanks ringtone order ref number k718 mobile charged 4 50 tone arrive please call customer service 09065069120', 'alrite', 'unique user id 1172 removal send stop 87239 customer service 08708034412', 'great new offer double min double txt best orange tariff get latest camera phone 4 free call mobileupd8 free 08000839402 2stoptxt c', 'gr8 new service live sex video chat mob see sexiest dirtiest girl live ur phone 4 detail text horny 89070 cancel send stop 89070', 'excellent see riley plan', 'mmmm cant wait lick', 'k wat tht incident', 'free msg sorry service ordered 81303 could delivered sufficient credit please top receive service', '4 costa del sol holiday 5000 await collection call 09050090044 toclaim sae tc pobox334 stockport sk38xh cost 1 50 pm max10mins', 'urgent trying contact last weekend draw show u 1000 prize guaranteed call 09064017295 claim code k52 valid 12hrs 150p pm', 'sm service inclusive text credit pls goto www comuk net login unsubscribe stop extra charge help 08700469649 po box420 ip4 5we', 'join uk horniest dogging service u sex 2nite sign follow instruction txt entry 69888 nyt ec2a 3lp msg 150p', 'kaiez enjoy ur tuition gee thk e second option sound beta go yan jiu den msg u', 'dating two started sent text talk sport radio last week connection think coincidence', 'congrats 2 mobile 3g videophones r call 09061744553 videochat wid ur mate play java game dload polyh music noline rentl bx420 ip4 5we 150pm', 'g class early tomorrow thus trying smoke lt gt', 'yes princess toledo', 'da today also forgot', 'win winner mr foley ipod exciting prize soon keep eye ur mobile visit www win 82050 co uk', 'loan purpose 500 75 000 homeowner tenant welcome previously refused still help call free 0800 1956669 text back help', 'gift trying get throw cliff something', 'warner village 83118 c colin farrell swat wkend warner village get 1 free med popcorn show msg ticket kiosk valid 4 7 12 c c kiosk reply sony 4 mre film offer', 'reply win 100 weekly 2006 fifa world cup held send stop 87239 end service', 'fancy shag interested sextextuk com txt xxuk suzy 69876 txts cost 1 50 per msg tncs website x', 'congratulation thanks good friend u 2 000 xmas prize 2 claim easy call 08718726971 10p per minute bt national rate', 'xmas prize draw trying contact u today draw show 2000 prize guaranteed call 09058094565 land line valid 12hrs', 'hi 07734396839 ibh customer loyalty offer new nokia6600 mobile 10 txtauction txt word start 81151 get 4t', 'dear voucher holder claim week offer pc please go http www e tlp co uk reward t c apply', 'private 2003 account statement show 800 un redeemed point call 08715203652 identifier code 42810 expires 29 10 0', 'double min txts 4 6months free bluetooth orange available sony nokia motorola phone call mobileupd8 08000839402 call2optout n9dx', 'getting touch folk waiting company txt back name age opt enjoy community 150p sm', '1 new message call 0207 083 6089', 'fantasy football back tv go sky gamestar sky active play 250k dream team scoring start saturday register sky opt 88088', 'rct thnq adrian u text rgds vatian', 'ok ok guess', 'missed call alert number called left message 07008009200', 'dude avatar 3d imp one point thought actually fly room almost tried hittng one reflex', 'free top ringtone sub weekly ringtone get 1st week free send subpoly 81618 3 per week stop sm 08718727870', 'use soc use home ü dunno 2 type word ar', 'final chance claim ur 150 worth discount voucher today text yes 85023 savamob member offer mobile c savamob pobox84 m263uz 3 00 sub 16', 'well available washob nobbing last night ask nickey platt instead', 'want funk ur fone weekly new tone reply tones2u 2 text www ringtones co uk original n best tone 3gbp network operator rate apply', 'xclusive clubsaisai 2morow 28 5 soiree speciale zouk nichols paris free rose 2 lady info 07946746291 07880867867', 'natalie 20 f inviting friend reply yes 165 165 see www sm ac u natalie2k9 stop send stop frnd 62468', 'imagine life without see fast u searching worry l always disturb u goodnoon', 'sunshine quiz wkly q win top sony dvd player u know country algarve txt ansr 82277 1 50 sp tyrone', 'rgent 2nd attempt contact u u 1250 call 09071512433 b4 050703 csbcm4235wc1n3xx callcost 150ppm mobilesvary max 7 50', 'babe fucking love know fuck good hear voice need crave get enough adore ahmad kiss', 'today voda number ending 7548 selected receive 350 award match please call 08712300220 quoting claim code 4041 standard rate app', 'fret buy ovulation test strip send wont get til like march send postal address u alright okay', 'purity friendship two smiling reading forwarded message smiling seeing name gud evng musthu', 'free today haf 2 pick parent tonite', '83039 62735 450 uk break accommodationvouchers term condition apply 2 claim mustprovide claim number 15541', 'new 2 club dont fink met yet b gr8 2 c u please leave msg 2day wiv ur area 09099726553 reply promised carlie x call 1 minmobsmore lkpobox177hp51fl', 'double min 1000 txts orange tariff latest motorola sonyericsson nokia bluetooth free call mobileupd8 08000839402 call2optout hf8', 'ü dun need pick ur gf', 'hot live fantasy call 08707509020 20p per min ntt ltd po box 1327 croydon cr9 5wb 0870 k', 'aiyah wait lor u entertain hee', 'orange customer may claim free camera phone upgrade loyalty call 0207 153 9996 offer end 14thmarch c apply opt availa', 'happy new year dear brother really miss got number decided send text wishing happiness abiola', 'gorgeous keep pix cumming thank', 'promise take good care princess run please send pic get chance ttyl', 'latest nokia mobile ipod mp3 player 400 proze guaranteed reply win 83355 norcorp ltd 1 50 mtmsgrcvd18', 'kallis dismissial 2nd test', 'free 1st week entry 2 textpod 4 chance 2 win 40gb ipod 250 cash every wk txt pod 84128 t c www textpod net custcare 08712405020', 'natalja 25 f inviting friend reply yes 440 440 see www sm ac u nat27081980 stop send stop frnd 62468', 'lol grin babe thanks thinking', 'awesome gonna soon later tonight', 'u early', 'ur tonexs subscription renewed charged 4 50 choose 10 polys month www clubzed co uk billing msg', 'private 2003 account statement show 800 un redeemed point call 08718738001 identifier code 49557 expires 26 11 04', 'k actually guy meet sunoco howard right way', 'really hope work doesnt get stressful gr8 day', 'good day pray remove teeth painful maintaining stuff', 'much u trying get', 'free entry 250 weekly comp send word enter 84128 18 c www textcomp com cust care 08712405020', 'thanks ringtone order ref number r836 mobile charged 4 50 tone arrive please call customer service 09065069154', 'still pretty weak today bad day', 'hi 07734396839 ibh customer loyalty offer new nokia6600 mobile 10 txtauction txt word start 81151 get 4t', 'customer loyalty offer new nokia6650 mobile 10 txtauction txt word start 81151 get 4t ctxt tc 150p mtmsg', 'dear voucher holder 2 claim week offer pc go http www e tlp co uk expressoffer t c apply 2 stop text txt stop 80062', 'wanna laugh try chit chat mobile logon txting word chat send 8883 cm po box 4217 london w1a 6zf 16 118p msg rcvd', 'want new nokia 3510i colour phone delivered tomorrow 200 free minute mobile 100 free text free camcorder reply call 08000930705', 'u outbid simonwatson5120 shinco dvd plyr 2 bid visit sm ac smsrewards 2 end bid notification reply end', 'guaranteed 1000 cash 2000 prize claim yr prize call customer service representative 08714712379 10am 7pm cost 10p', 'new textbuddy chat 2 horny guy ur area 4 25p free 2 receive search postcode gaytextbuddy com txt one name 89693', 'camera awarded sipix digital camera call 09061221066 fromm landline delivery within 28 day', 'sm auction brand new nokia 7250 4 auction today auction free 2 join take part txt nokia 86021 hg suite342 2lands row w1j6hl', 'pick 5 15pm go taunton still want come', 'hot live fantasy call 08707500020 20p per min ntt ltd po box 1327 croydon cr9 5wb 0870 national rate call', 'ofcourse also upload song', '4 let go bill miller', 'freemsg feelin kinda lnly hope u like 2 keep company jst got cam moby wanna c pic txt reply date 82242 msg150p 2rcv hlp 08712317606 stop 82242', 'talk sexy make new friend fall love world discreet text dating service text vip 83110 see could meet', 'k k training process', 'good registered vote', 'vivek got call number', 'back 2 work 2morro half term u c 2nite 4 sexy passion b4 2 go back chat 09099726481 luv dena call 1 minmobsmorelkpobox177hp51fl', 'want lick pussy', 'oh really make air talent', 'moby pub quiz win 100 high street prize u know new duchess cornwall txt first name 82277 unsub stop 1 50 008704050406 sp arrow', 'sound good finger make difficult type', 'thx well month', 'thanks lot wish birthday thanks making birthday truly memorable', 'week savamob member offer accessible call 08709501522 detail savamob pobox 139 la3 2wu 1 50 week savamob offer mobile', 'urgent ur 500 guaranteed award still unclaimed call 09066368327 closingdate04 09 02 claimcode m39m51 1 50pmmorefrommobile2bremoved mobypobox734ls27yf', 'message text missing sender name missing number missing sent date missing missing u lot thats everything missing sent via fullonsms com', 'private 2004 account statement 078498 7 show 786 unredeemed bonus point claim call 08719180219 identifier code 45239 expires 06 05 05', 'someone u know asked dating service 2 contact cant guess call 09058095107 revealed pobox 7 s3xy 150p', 'haha awesome omw back', 'hot live fantasy call 08707509020 20p per min ntt ltd po box 1327 croydon cr9 5wb 0870 k', 'call later network urgnt sm', 'ola would get back maybe today told direct link u getting car bid online arrange shipping get cut u partnership u invest money shipping take care rest u wud b self reliant soon dnt worry', 'wishing family merry x ma happy new year advance', 'tkts euro2004 cup final 800 cash collect call 09058099801 b4190604 pobox 7876150ppm', 'lol would awesome payback', 'september', 'special', 'co want thing', 'leaving qatar tonite search opportunity went fast pls add ur prayer dear rakhesh', '500 new mobile 2004 must go txt nokia 89545 collect today 1 www 4 tc biz 2optout 087187262701 50gbp mtmsg18', 'orange brings ringtones time chart hero free hit week go ringtones pic wap stop receiving tip reply stop', 'hi way u 2day normal way real ur unique hope know u 4 rest mylife hope u find wot lost', 'popping lt gt ibuprofen help', 'free 1st week no1 nokia tone 4 ur mob every week txt nokia 8007 get txting tell ur mate www getzed co uk pobox 36504 w45wq norm150p tone 16', 'nokia 7250i get win free auction take part send nokia 86021 hg suite342 2lands row w1jhl 16', 'shopping eh ger toking abt syd leh haha', 'hi technical support providing assistance u customer call email', 'hi mandy sullivan calling hotmix fm chosen receive 5000 00 easter prize draw please telephone 09041940223 claim 29 03 05 prize transferred someone else', 'urgent please call 0906346330 abta complimentary 4 spanish holiday 10 000 cash await collection sae c box 47 po19 2ez 150ppm 18', 'tomorrow going theatre come wherever u call tell come tomorrow', 'text meet someone sexy today u find date even flirt u join 4 10p reply name age eg sam 25 18 msg recd thirtyeight penny', 'tried call reply sm video mobile 750 min unlimited text free camcorder reply call 08000930705', 'free nokia motorola upto 12mths 1 2price linerental 500 free x net min 100txt mth free b tooth call mobileupd8 08001950382 call 2optout d3wv', 'urgent 2nd attempt contact u u 1000call 09071512432 b4 300603t csbcm4235wc1n3xx callcost150ppmmobilesvary max 7 50', 'santa calling would little one like call santa xmas eve call 09077818151 book time calls1 50ppm last 3mins 30 c www santacalling com', 'want latest video handset 750 anytime network min half price line rental reply call 08000930705 delivery tomorrow', 'lol would mom would fit tell whole family crazy terrible', 'ugh u apologize admit u wrong ask take u back', 'u see posted facebook', '4mths half price orange line rental latest camera phone 4 free phone 11mths call mobilesdirect free 08000938767 update or2stoptxt c', 'aight thanks comin', 'take small dose tablet fever', 'guaranteed 200 award even 1000 cashto claim ur award call free 08000407165 18 2 stop getstop 88222 php', 'ü send content page', 'yo gonna still stock tomorrow today trying get dubsack', 'welcome uk mobile date msg free giving free calling 08719839835 future mg billed 150p daily cancel send go stop 89123', 'year many mile', 'gonna pick 1 burger way home even move pain killing', 'movie theatre go watch unlimited movie pay', 'per request maangalyam alaipayuthe set callertune caller press 9 copy friend callertune', '22 day kick euro2004 u kept date latest news result daily removed send get txt stop 83222', 'urgent please call 09066612661 landline 5000 cash luxury 4 canary island holiday await collection c sae award 20m12aq 150ppm 16', 'u r winner u ave specially selected 2 receive 1000 cash 4 holiday flight inc speak live operator 2 claim 0871277810710p min 18', 'arun u transfr amt', 'dunno co v late n reach inside already ate spageddies lor e gal r laughing lor', 'make cry stuff happens top everything else push edge underdtand often cry sorry sorry life', 'got look scrumptious daddy want eat night long', 'wiskey brandy rum gin beer vodka scotch shampain wine kudi yarasu dhina vaazhthukkal', 'would like see xxx pic hot nearly banned uk', 'xxxmobilemovieclub use credit click wap link next txt message click http wap xxxmobilemovieclub com n qjkgighjjgcbl', 'heard week', 'gr8 handle victoria island traffic plus album due', 'hi mobile lt gt added contact list www fullonsms com great place send free sm people visit fullonsms com', 'free polyphonic ringtone text super 87131 get free poly tone week 16 sn pobox202 nr31 7zs subscription 450pw', 'welcome select o2 service added benefit call specially trained advisor free mobile dialling 402', 'u secret admirer looking 2 make contact u find r reveal think ur special call 09058094599', 'burger king wanna play footy top stadium get 2 burger king 1st sept go large super coca cola walk winner', 'error', 'customer service annoncement new year delivery waiting please call 07046744435 arrange delivery', '0a network allow company bill sm responsible supplier shop give guarantee sell b g', 'forwarded 88877 free entry 250 weekly comp send word enter 88877 18 c www textcomp com', 'network operator service free c visit 80488 biz', 'mobile club choose top quality item mobile 7cfca1a', 'work going min', 'yes princess want please every night wish command', 'likely called mittelschmertz google dont paracetamol dont worry go', 'urgent please call 09061743811 landline abta complimentary 4 tenerife holiday 5000 cash await collection sae c box 326 cw25wx 150ppm', 'private 2003 account statement show 800 un redeemed point call 08719899230 identifier code 41685 expires 07 11 04', '2nd time tried 2 contact u u 750 pound prize 2 claim easy call 08712101358 10p per min bt national rate', 'ok', 'alright sure let know leaving', 'urgent 1 week free membership 100 000 prize jackpot txt word claim 81010 c www dbuk net lccltd pobox 4403ldnw1a7rw18', 'ok ok take care understand', 'ü thk wat eat tonight', 'ur chance win 250 wkly shopping spree txt shop 80878 c www txt 2 shop com custcare 08715705022 1x150p wk', 'today voda number ending 7634 selected receive 350 reward match please call 08712300220 quoting claim code 7684 standard rate apply', 'walked hour 2 c u show care wont u believe im serious', 'urgent mobile number awarded 2000 prize guaranteed call 09058094454 land line claim 3030 valid 12hrs', '18 day euro2004 kickoff u kept informed latest news result daily unsubscribe send get euro stop 83222', 'waaaat lololo ok next time', 'u selected stay 1 250 top british hotel nothing holiday valued 350 dial 08712300220 claim national rate call bx526 sw73ss', 'free msg ringtone http tm widelive com index wml id 1b6a5ecef91ff9 37819 first true18 0430 jul 05', 'awarded sipix digital camera call 09061221061 landline delivery within 28days c box177 m221bp 2yr warranty 150ppm 16 p p 3 99', 'yes place town meet exciting adult single uk txt chat 86688 150p msg', 'oh god found number glad text back xafter msg cst std ntwk chg 1 50', 'hey time driving fri go evaluation fri', 'u win 100 music gift voucher every week starting txt word draw 87066 tscs www idew com skillgame 1winaweek age16 150ppermesssubscription', 'stomach thru much trauma swear eat better lose weight', 'congrats 1 year special cinema pas 2 call 09061209465 c suprman v matrix3 starwars3 etc 4 free bx420 ip4 5we 150pm dont miss', 'u 447801259231 secret admirer looking 2 make contact u find r reveal think ur special call 09058094597', 'money r lucky winner 2 claim prize text money 2 88600 1million give away ppt150x3 normal text rate box403 w1t1jy', 'free ringtone reply real poly eg real1 1 pushbutton 2 dontcha 3 babygoodbye 4 golddigger 5 webeburnin 1st tone free 6 u join 3 wk', 'want new video phone750 anytime network min 150 text five pound per week call 08000776320 reply delivery tomorrow', 'tell drug dealer getting impatient', 'twinks bear scallies skin jock calling miss weekend fun call 08712466669 10p min 2 stop text call 08712460324 nat rate', 'sorry call later', 'macha dont feel upset assume mindset believe one evening wonderful plan u let life begin call anytime', 'haha friend tyler literally asked could get dubsack', 'sorry chikku cell got problem thts nt able reply u msg u', 'lemme know swing pick free basically time 1 semester', 'bear pic nick tom pete dick fact type try gay chat photo upload call 08718730666 10p min 2 stop text call 08712460324', 'wonderful okors great month cherish guy wish well day mojibiola', 'u goin 2nite', 'free msg single find partner area 1000 real people waiting chat send chat 62220cncl send stopcs 08717890890 1 50 per msg', 'want kiss feel next', 'dear subscriber ur draw 4 100 gift voucher b entered receipt correct an elvis presley birthday txt answer 80062', 'friend use call', 'lil fever fine', 'loan purpose 500 75 000 homeowner tenant welcome previously refused still help call free 0800 1956669 text back help', 'tot u outside co darren say u come shopping course nice wat jus went sim lim look mp3 player', 'check choose babe video sm shsex netun fgkslpopw fgkslpo', 'reminder o2 get 2 50 pound free call credit detail great offer pls reply 2 text valid name house postcode', 'dare stupid wont tell anything hear wont talk', 'private 2003 account statement show 800 un redeemed point call 08715203694 identifier code 40533 expires 31 10 04', 'sorry call later', 'new local date area lot new people registered area reply date start 18 www flirtparty u replys150', 'private 2003 account statement 07973788240 show 800 un redeemed point call 08715203649 identifier code 40533 expires 31 10 04', 'thanks fill complete calm reassurance', 'sound like could lot time spent chastity device boy grin take beating like good dog going lounge nice long bath', 'freemsg 1 month unlimited free call activate smartcall txt call 68866 subscriptn3gbp wk unlimited call help 08448714184 stop txt stop landlineonly', 'tried contact offer new video phone 750 anytime network min half price rental camcorder call 08000930705 reply delivery wed', 'urgent trying contact last weekend draw show 900 prize guaranteed call 09061701851 claim code k61 valid 12hours', 'mila age23 blonde new uk look sex uk guy u like fun text mtalk 69866 18 30pp txt 1st 5free 1 50 increment help08718728876', 'hi frnd best way avoid missunderstding wit beloved one', '2004 account 07xxxxxxxxx show 786 unredeemed point claim call 08719181259 identifier code xxxxx expires 26 03 05', 'get garden ready summer free selection summer bulb seed worth 33 50 scotsman saturday stop go2 notxt co uk', 'today voda number ending 1225 selected receive 50award match please call 08712300220 quoting claim code 3100 standard rate app', 'please call 08712402972 immediately urgent message waiting', 'winner valued network customer selected receivea 900 prize reward claim call 09061701461 claim code kl341 valid 12 hour', 'reply name address receive post week completely free accommodation various global location www phb1 com ph 08700435505150p', 'texted finished long time ago showered er ything', 'u r subscribed 2 textcomp 250 wkly comp 1st wk free question follows subsequent wks charged 150p msg 2 unsubscribe txt stop 2 84128 custcare 08712405020', 'oh rite well im best mate pete went 4 week 2geva longer week', 'double min double txt 1 2 price linerental latest orange bluetooth mobile call mobileupd8 latest offer 08000839402 call2optout lf56', 'reached already', 'mean post wrote like many time ritten stuff let sit feeling time angry left hit send stop checked phone got car said sleep bored time clean fold laundry etc least make bed', 'well done 4 costa del sol holiday 5000 await collection call 09050090044 toclaim sae tc pobox334 stockport sk38xh cost 1 50 pm max10mins', 'ever thought living good life perfect partner txt back name age join mobile community 100p sm', 'keep safe need miss already envy everyone see real life', 'oh god taken teeth paining', 'free entry 250 weekly competition text word win 80086 18 c www txttowin co uk', '2nd time tried 2 contact u u 750 pound prize 2 claim easy call 08718726970 10p per min bt national rate', 'send logo 2 ur lover 2 name joined heart txt love name1 name2 mobno eg love adam eve 07123456789 87077 yahoo pobox36504w45wq txtno 4 ad 150p', 'watching telugu movie wat abt u', 'dude ive seeing lotta corvette lately', 'congratulation u claim 2 vip row ticket 2 c blu concert november blu gift guaranteed call 09061104276 claim t c www smsco net cost 3 75max', 'today offer claim ur 150 worth discount voucher text yes 85023 savamob member offer mobile c 08717898035 3 00 sub 16 unsub reply x', 'yo around friend mine lookin pick later tonight', 'message free welcome new improved sex dogging club unsubscribe service reply stop msg 150p 18', 'ok', 'yes appt', 'emailed yifeng part oredi ü get fr', 'mila age23 blonde new uk look sex uk guy u like fun text mtalk 69866 18 30pp txt 1st 5free 1 50 increment help08718728876', 'meeting da call', '80488 500 free text message valid 31 december 2005', 'thinking lifting one', 'ill call u 2mrw ninish address icky american freek wont stop callin 2 bad jen k eh', 'drama pls enough family struggling hot sun strange place reason ego going invited actually necessity go wait serious reppurcussions', 'welcome please reply age gender begin e g 24m', 'urgent mobile number awarded ukp 2000 prize guaranteed call 09061790125 landline claim 3030 valid 12hrs 150ppm', 'ha must walk everywhere cannot take tram cousin said walk vic market hotel', 'home doc gave pain med say everything fine', 'come karnan car please wait till 6pm directly goto doctor', 'congrats 2 mobile 3g videophones r call 09063458130 videochat wid ur mate play java game dload polyph music noline rentl bx420 ip4 5we 150p', 'refused loan secured unsecured get credit call free 0800 195 6669 text back help', 'yo around got car back', 'rcv msg chat svc free hardcore service text go 69988 u get nothing u must age verify yr network try', 'urgent last weekend draw show 1000 cash spanish holiday call 09050000332 claim c rstm sw7 3 150ppm', 'call 09095350301 send girl erotic ecstacy 60p min stop text call 08712460324 nat rate', 'sunshine quiz wkly q win top sony dvd player u know country algarve txt ansr 82277 1 50 sp tyrone', 'much textin bout', 'freemsg hey buffy 25 love satisfy men home alone feeling randy reply 2 c pix qlynnbv help08700621170150p msg send stop stop txts', 'u 447801259231 secret admirer looking 2 make contact u find r reveal think ur special call 09058094597', 'fine difficulty phone work mine pls send another friend request', 'really need 2 kiss u miss u baby ur baby 4eva', 'december mobile 11mths entitled update latest colour camera mobile free call mobile update co free 08002986906', 'allo braved bus taken train triumphed mean b ham jolly good rest week', 'tried contact reply offer video phone 750 anytime network min half price line rental camcorder reply call 08000930705', 'sunshine quiz wkly q win top sony dvd player u know country liverpool played mid week txt ansr 82277 1 50 sp tyrone', 'miserable tell u side effect birth control massive gut wrenching cramp first 2 month sleep last night', 'text get call phone problem', 'k ill drink pa need sr model pls send mail id pa', 'last chance claim ur 150 worth discount voucher today text shop 85023 savamob offer mobile c savamob pobox84 m263uz 3 00 sub 16', 'one registered subscriber u enter draw 4 100 g b gift voucher replying enter unsubscribe text stop', 'camera awarded sipix digital camera call 09061221066 fromm landline delivery within 28 day', 'hot live fantasy call 08707509020 20p per min ntt ltd po box 1327 croydon cr9 5wb 0870 national rate call', 'ok', 'message brought gmw ltd connected', 'kit strip billed 150p netcollex ltd po box 1013 ig11 oja', '400 xmas reward waiting computer randomly picked loyal mobile customer receive 400 reward call 09066380611', '1 000 cash 2 000 prize claim call09050000327', 'ask u meeting da ge tmr nite', 'quite late lar ard 12 anyway wun b drivin', 'free message activate 500 free text message replying message word free term condition visit www 07781482378 com', 'someonone know trying contact via dating service find could call mobile landline 09064015307 box334sk38ch', 'xmas offer latest motorola sonyericsson nokia free bluetooth dvd double min 1000 txt orange call mobileupd8 08000839402 call2optout 4qf2', 'sport fan get latest sport news str 2 ur mobile 1 wk free plus free tone txt sport 8007 www getzed co uk 0870141701216 norm 4txt 120p', 'urgent mobile 07808726822 awarded 2 000 bonus caller prize 02 09 03 2nd attempt contact call 0871 872 9758 box95qu', 'guess first time created web page www asjesus com read wrote waiting opinion want friend 1 1', 'great new offer double min double txt best orange tariff get latest camera phone 4 free call mobileupd8 free 08000839402 2stoptxt c', 'people dogging area call 09090204448 join like minded guy arrange 1 1 evening 1 50 minapn ls278bb', 'get ur 1st ringtone free reply msg tone gr8 top 20 tone phone every week 1 50 per wk 2 opt send stop 08452810071 16', 'get opinion something first', 'come aftr lt decimal gt cleaning house', 'take away money worry', 'watever relation u built dis world thing remains atlast iz lonlines lotz n lot memory feeling', 'asked anthony dad bf', 'lol know hey someone great inpersonation flea forum love', 'hey booked 2 lesson sun liao', 'solihull want anything', '1 polyphonic tone 4 ur mob every week txt pt2 87575 1st tone free get txtin tell ur friend 150p tone 16 reply hl 4info', 'goldviking 29 inviting friend reply yes 762 762 see www sm ac u goldviking stop send stop frnd 62468', 'mobile number 5000 claim call u back ring claim hot line 09050005321', 'first time everything', 'take major role community outreach rock mel', 'yeah usual guy town definitely people around know', 'vote wherever heart guide', 'free 1st week no1 nokia tone 4 ur mob every week txt nokia 8007 get txting tell ur mate www getzed co uk pobox 36504 w45wq norm150p tone 16', 'car hour half going apeshit', 'u secret admirer looking 2 make contact u find r reveal think ur special call 09058094565', 'see thought', 'ok lor msg b4 u call', 'x course 2yrs message messenger lik r sending', 'recieve tone within next 24hrs term condition please see channel u teletext pg 750', 'save money wedding lingerie www bridal petticoatdreams co uk choose superb selection national delivery brought weddingfriend', 'ok lor', '88066 lost 12 help', 'thought see', 'get chicken broth want ramen unless know', 'cooked rather nice salmon la', 'know jack shit anything say ask something helpful want pretend text whatever response hypotheticalhuagauahahuagahyuhagga', 'hear new divorce barbie come ken stuff', 'weird know one point', 'collect valentine weekend paris inc flight hotel 200 prize guaranteed text paris 69101 www rtf sphosting com', 'congratulation winner august 1000 prize draw call 09066660100 prize code 2309', 'private 2003 account statement 078', 'merry christmas babe love ya kiss', 'important customer service announcement call freephone 0800 542 0825', 'hi 2nights ur lucky night uve invited 2 xchat uk wildest chat txt chat 86688 150p msgrcvdhg suite342 2lands row w1j6hl ldn 18yrs', 'ü b going esplanade fr home', 'accordingly repeat text word ok mobile phone send', 'probably gonna see later tonight lt', 'u konw waht rael friendship im gving yuo exmpel jsut ese tihs msg evrey splleing tihs msg wrnog bt sitll yuo raed wihtuot ayn mitsake goodnight amp nice sleep sweet dream', 'anything valuable 2 situation first getting second loosing', 'bloomberg message center 447797706009 wait apply future http career bloomberg com', 'mm food da', 'hank lotsly', 'well slightly disastrous class pm fav darling hope day ok coffee wld good stay late tomorrow time place always', 'lt gt buck bank fee fixed better call bank find', '1 000 cash 2 000 prize claim call09050000327 c rstm sw7 3 150ppm', 'registered sinco payee log icicibank com enter urn lt gt confirm beware fraud share disclose urn anyone', 'guaranteed 1000 cash 2000 prize claim yr prize call customer service representative 08714712394 10am 7pm', 'much blackberry bold2 nigeria', 'someone u know asked dating service 2 contact cant guess call 09058091854 revealed po box385 m6 6wu', 'come back tampa ffffuuuuuuu', 'finished lunch already u wake already', 'working eye philosophy text u later bit free chat', 'new tone week include 1 mcfly ab 2 sara jorge shock 3 smith switch order follow instruction next message', 'two team waiting player', 'msg r time pas silently say thinking u right also making u think least 4 moment gd nt swt drms shesil', 'even u dont get trouble convincing tel twice tel neglect msg dont c read dont reply', 'yeah tote u wanna', 'ok lor sony ericsson salesman ask shuhui say quite gd 2 use considering', 'nope b going 2 sch fri quite early lor co mys si got paper da morn', 'inside office still filling form know leave', 'dled 3d imp', 'congratulation ur awarded 500 cd voucher 125gift guaranteed free entry 2 100 wkly draw txt music 87066', 'noice text', 'course make stink', 'please call 08712402902 immediately urgent message waiting', 'freezing home yet remember kiss mom morning love think missing yet', 'goal arsenal 4 henry 7 v liverpool 2 henry score simple shot 6 yard pas bergkamp give arsenal 2 goal margin 78 min', 'said text one time', 'valentine day special win 1000 quiz take partner trip lifetime send go 83600 150p msg rcvd custcare 08718720201', 'ok later showing around 8 8 30 want cld drink wld prefer spend money nosh mind nxt wk', 'gent trying contact last weekend draw show 1000 prize guaranteed call 09064012160 claim code k52 valid 12hrs 150ppm', 'free video camera phone half price line rental 12 mths 500 cross ntwk min 100 txts call mobileupd8 08001950382 call2optout 674', 'call 08702490080 tell u 2 call 09066358152 claim 5000 prize u 2 enter ur mobile personal detail prompt careful', 'urgent please call 09066612661 landline complimentary 4 lux costa del sol holiday 1000 cash await collection ppm 150 sae c james 28 eh74rr', 'tell u 2 call 09066358152 claim 5000 prize u 2 enter ur mobile personal detail prompt careful', '1 new message please call 08718738034', 'get gandhipuram walk cross cut road right side lt gt street road turn first right', 'boy loved gal propsd bt didnt mind gv lv lttrs bt frnds threw thm boy decided 2 aproach gal dt time truck speeding towards gal wn 2 hit girl boy ran like hell n saved asked hw cn u run fast boy replied boost secret energy n instantly girl shouted energy n thy lived happily 2gthr drinking boost evrydy moral story hv free msg gud ni8', 'jamster get free wallpaper text heart 88888 c apply 16 need help call 08701213186', 'free entry 2 weekly comp chance win ipod txt pod 80182 get entry std txt rate c apply 08452810073 detail 18', 'back lemme know ready', 'ya nice ready thursday', 'random saw old roomate campus graduated', 'babe u want dont u baby im nasty thing 4 filthyguys fancy rude time sexy bitch go slo n hard txt xxx slo 4msgs', 'monthly password wap mobsi com 391784 use wap phone pc', 'urgent call 09061749602 landline complimentary 4 tenerife holiday 10 000 cash await collection sae c box 528 hp20 1yf 150ppm 18', 'sent lanre fakeye eckankar detail mail box', 'winner specially selected receive 1000 cash 2000 award speak live operator claim call 087123002209am 7pm cost 10p', 'da bus going home', 'congrats 1 year special cinema pas 2 call 09061209465 c suprman v matrix3 starwars3 etc 4 free bx420 ip4 5we 150pm dont miss', 'sm auction nokia 7250i get win free auction take part send nokia 86021 hg suite342 2lands row w1jhl 16', 'forgot tell ü smth ü like number section clearer', 'shop till u drop either 10k 5k 500 cash 100 travel voucher call 09064011000 ntt po box cr01327bt fixedline cost 150ppm mobile vary', 'slaaaaave must summon time wish come anymore', 'donate 2 50 unicef asian tsunami disaster support fund texting donate 864233 2 50 added next bill', 'pa tell went bath', 'sunshine quiz win super sony dvd recorder canname capital australia text mquiz 82277 b', 'nokia 7250i get win free auction take part send nokia 86021 hg suite342 2lands row w1jhl 16', 'prof passed paper sem congrats student enna kalaachutaarama prof gud mrng', 'know someone know fancy call 09058097218 find pobox 6 ls15hb 150p', 'camera awarded sipix digital camera call 09061221066 fromm landline delivery within 28 day', 'tired slept well past night', 'really really broke oh amount small even lt gt', 'chosen receive 350 award pls call claim number 09066364311 collect award selected receive valued mobile customer', 'wanted ask ü wait 4 finish lect co lect finish hour anyway', 'currently message awaiting collection collect message call 08718723815', 'bangbabes ur order way u receive service msg 2 download ur content u goto wap bangb tv ur mobile internet service menu', 'sim subscriber selected receive bonus get delivered door txt word ok 88600 claim 150p msg exp 30apr', 'oh mr sheffield wanna play game okay bos nanny give raise give one', 'yar lor wan 2 go c horse racing today mah eat earlier lor ate chicken rice u', 'okie', 'movie collect car oredi', '07801543489 guaranteed latest nokia phone 40gb ipod mp3 player 500 prize txt word collect 83355 tc llc ny usa 150p mt msgrcvd18', 'december mobile 11mths entitled update latest colour camera mobile free call mobile update co free 08002986906', 'sun cant come earth send luv ray cloud cant come river send luv rain cant come meet u send care msg u gud evng', 'plan staying night prolly back til late', 'dear good morning feeling dear', 'eerie nokia tone 4u rply tone title 8007 eg tone dracula 8007 title ghost addamsfa munsters exorcist twilight www getzed co uk pobox36504w45wq 150p', 'get 3 lion england tone reply lionm 4 mono lionp 4 poly 4 go 2 www ringtones co uk original n best tone 3gbp network operator rate apply', 'hi amy sending free phone number couple day give access adult party', 'jus an lar u noe later', 'kallis wont play first two odi', 'funny fact nobody teach volcano 2 erupt tsunami 2 arise hurricane 2 sway aroundn 1 teach hw 2 choose wife natural disaster happens', 'urgent 4 costa del sol holiday 5000 await collection call 09050090044 toclaim sae tc pobox334 stockport sk38xh cost 1 50 pm max10mins', 'bored housewife chat n date 0871750 77 11 bt national rate 10p min landline', 'upgrdcentre orange customer may claim free camera phone upgrade loyalty call 0207 153 9153 offer end 26th july c apply opt available', 'boo babe u enjoyin yourjob u seemed 2 b gettin well hunny hope ure ok take care llspeak 2u soonlots loveme xxxx', 'yes good crickiting mind', 'today offer claim ur 150 worth discount voucher text yes 85023 savamob member offer mobile c 08717898035 3 00 sub 16 unsub reply x', 'nvm take ur time', 'whatsup dont u want sleep', 'specially selected receive 2000 pound award call 08712402050 line close cost 10ppm 16 c apply ag promo', 'brother genius', 'winner valued network customer hvae selected receive 900 reward collect call 09061701444 valid 24 hour acl03530150pm', 'urgent mobile 2 000 bonus caller prize 02 06 03 2nd attempt reach call 09066362220 asap box97n7qp 150ppm', 'made day great day', 'love one law make happy person love way friendship one law never make ur friend feel alone alive gud night', 'someone u know asked dating service 2 contact cant guess call 09058097189 revealed pobox 6 ls15hb 150p', 'happy birthday dear lot love rakhesh nri', 'electricity went fml', 'xmas iscoming ur awarded either 500 cd gift voucher free entry 2 r 100 weekly draw txt music 87066 tnc www ldew com1win150ppmx3age16subscription', 'cutest girl world', 'da good good player unsold', 'awarded sipix digital camera call 09061221061 landline delivery within 28days c box177 m221bp 2yr warranty 150ppm 16 p p 3 99', 'mobile 11 month u r entitled update latest colour mobile camera free call mobile update co free 08002986030', 'urgent please call 09061213237 landline 5000 cash 4 holiday await collection c sae po box 177 m227xy 16', '74355 xmas iscoming ur awarded either 500 cd gift voucher free entry 2 r 100 weekly draw txt music 87066 tnc', 'farm open', 'k much 8th fifty', 'dear voucher holder next meal u use following link pc 2 enjoy 2 4 1 dining experiencehttp www vouch4me com etlp dining asp', 'guy getting back g said thinking staying mcr', 'valued vodafone customer computer picked win 150 prize collect easy call 09061743386', 'r u meeting da ge nite tmr', 'got fujitsu ibm hp toshiba got lot model say', 'good afternoon love go day hope maybe got lead job think boytoy send passionate kiss across sea', 'want 750 anytime network min 150 text new video phone five pound per week call 08002888812 reply delivery tomorrow', 'tkts euro2004 cup final 800 cash collect call 09058099801 b4190604 pobox 7876150ppm', 'also sorta blown couple time recently id rather text blue looking weed', 'left vague said would inform person accounting delayed rent discus housing agency renting another place checking online place around usc lt gt', 'dint touch', 'yeah sure give couple minute track wallet', 'talk', 'nan sonathaya soladha bos', 'r stayin extra week back next wed rugby weekend hi c u soon', '2nd time tried 2 contact u u 750 pound prize 2 claim easy call 087187272008 now1 10p per minute bt national rate', 'loan purpose even bad credit tenant welcome call noworriesloans com 08717111821', 'cd 4u congratulation ur awarded 500 cd gift voucher 125 gift guaranteed freeentry 2 100 wkly draw xt music 87066 tncs www ldew com1win150ppmx3age16', 'life never much fun great came made truly special forget enjoy one gbp sm', 'dear 0776xxxxxxx u invited xchat final attempt contact u txt chat 86688 150p msgrcvdhg suite342 2lands row w1j6hl ldn 18yrs', 'ur cash balance currently 500 pound maximize ur cash send cash 86688 150p msg cc 08708800282 hg suite342 2lands row w1j6hl', 'win winner mr foley ipod exciting prize soon keep eye ur mobile visit www win 82050 co uk', 'urgent trying contact u today draw show 800 prize guaranteed call 09050001808 land line claim m95 valid12hrs', 'urgent mobile number awarded 2000 prize guaranteed call 09061790126 land line claim 3030 valid 12hrs 150ppm', 'derek done class', 'hi mate rv u hav nice hol message 3 say hello coz sent u 1 age started driving stay road rvx', 'urgent important information 02 user today lucky day 2 find log onto http www urawinner com fantastic surprise awaiting', 'yes place town meet exciting adult single uk txt chat 86688 150p msg', 'unique enough find 30th august www areyouunique co uk', 'ur awarded city break could win 200 summer shopping spree every wk txt store 88039 skilgme tscs087147403231winawk age16 1 50perwksub', 'ever notice driving anyone going slower idiot everyone driving faster maniac', 'urgent 2nd attempt contact u 900 prize yesterday still awaiting collection claim call 09061702893 acl03530150pm', '08714712388 10am 7pm cost 10p', 'good good job like entrepreneur', 'get library', 'free top ringtone sub weekly ringtone get 1st week free send subpoly 81618 3 per week stop sm 08718727870', 'horrible bf v hungry', 'pls send comprehensive mail paying much', 'important customer service announcement call freephone 0800 542 0825', 'dear 0776xxxxxxx u invited xchat final attempt contact u txt chat 86688 150p msgrcvdhg suite342 2lands row w1j6hl ldn 18yrs', 'winner valued network customer selected receivea 900 prize reward claim call 09061701461 claim code kl341 valid 12 hour', '85233 free ringtone reply real', 'went ur hon lab one', 'hi sue 20 year old work lapdancer love sex text live bedroom text sue 89555 textoperator g2 1da 150ppmsg 18', 'tmrw im finishing 9 door', 'winner specially selected receive 1000 cash 2000 award speak live operator claim call 087147123779am 7pm cost 10p', 'get brand new mobile phone agent mob plus load goody info text mat 87021', 'buy space invader 4 chance 2 win orig arcade game console press 0 game arcade std wap charge see o2 co uk game 4 term setting purchase', 'marvel mobile play official ultimate spider man game 4 50 ur mobile right text spider 83338 game send u free 8ball wallpaper', 'ok lar joking wif u oni', 'yeah probs last night obviously catching speak soon', 'u win 100 music gift voucher every week starting txt word draw 87066 tscs www idew com skillgame 1winaweek age16 150ppermesssubscription', 'hey boy want hot xxx pic sent direct 2 ur phone txt porn 69855 24hrs free 50p per day stop text stopbcm sf wc1n3xx', 'ok another number', 'want cock hubby away need real man 2 satisfy txt wife 89938 string action txt stop 2 end txt rec 1 50ea otbox 731 la1 7ws', 'hi roger cl', 'dear dave final notice collect 4 tenerife holiday 5000 cash award call 09061743806 landline tc sae box326 cw25wx 150ppm', 'oh got many responsibility', 'simpson movie released july 2007 name band died start film green day b blue day c red day send b c', 'stop however suggest stay someone able give or every stool', 'nokia 7250i get win free auction take part send nokia 86021 hg suite342 2lands row w1jhl 16', 'come take little time child afraid dark become teenager want stay night', 'bus way calicut', 'age abj', 'sorry call later', 'free 1st week no1 nokia tone 4 ur mobile every week txt nokia 8077 get txting tell ur mate www getzed co uk pobox 36504 w45wq 16 norm150p tone', 'yeah got one lined u', 'want new video handset 750 time network min unlimited text camcorder reply call 08000930705 del sat', 'urgent mobile number awarded 2000 prize guaranteed call 09061790121 land line claim 3030 valid 12hrs 150ppm', 'apps class varaya elaya', 'oh k come tomorrow', 'new address apple pair malarky', 'thanks ringtone order reference number x29 mobile charged 4 50 tone arrive please call customer service 09065989180', 'cant pick phone right pls send message', 'good afternoon boytoy go walking day get police abstract still wake miss babe', '1000 girl many local 2 u r virgin 2 r ready 2 4fil ur every sexual need u 4fil text cute 69911 1 50p', 'friendship poem dear dear u r near hear dont get fear live cheer tear u r always dear gud ni8', 'urgent mobile awarded 2 000 bonus caller prize 02 09 03 2nd attempt contact call 0871 872 9755 box95qu', 'becoz lt gt jan whn al post ofice holiday cn go fr post ofice got duffer', 'sorry call later', 'yo yo yo byatch whassup', 'hi yijue meet u 11 tmr', 'hi customer loyalty offer new nokia6650 mobile 10 txtauction txt word start 81151 get 4t ctxt tc 150p mtmsg', 'much dirty fellow', 'mobile 10 mths update latest orange camera video phone free save free text weekend call text yes callback orno opt', 'urgent mobile 07xxxxxxxxx 2 000 bonus caller prize 02 06 03 2nd attempt reach call 09066362231 asap box97n7qp 150ppm', 'got take 2 take part wrc rally oz u lucozade energy text rally le 61200 25p see pack lucozade co uk wrc itcould u', 'b4u voucher w c 27 03 marsms log onto www b4utele com discount credit opt reply stop customer care call 08717168528', 'send logo 2 ur lover 2 name joined heart txt love name1 name2 mobno eg love adam eve 07123456789 87077 yahoo pobox36504w45wq txtno 4 ad 150p', 'valued vodafone customer computer picked win 150 prize collect easy call 09061743386', 'sm service inclusive text credit pls goto www comuk net login 3qxj9 unsubscribe stop extra charge help 08702840625 comuk 220 cm2 9ae', 'call germany 1 penny per minute call fixed line via access number 0844 861 85 85 prepayment direct access', '1 new voicemail please call 08719181513', 'yeah got 2 v apologetic n fallen actin like spoilt child got caught till 2 go badly cheer', 'take exam march 3', 'sorry sir call tomorrow senthil hsbc', 'tddnewsletter emc1 co uk game thedailydraw dear helen dozen free game great prizeswith', 'tb persolvo chasing u since sept 38 definitely paying thanks information ignore kath manchester', 'urgent trying contact u today draw show 2000 prize guaranteed call 09066358361 land line claim y87 valid 12hrs', 'private 2003 account statement 07808247860 show 800 un redeemed point call 08719899229 identifier code 40411 expires 06 11 04', 'eerie nokia tone 4u rply tone title 8007 eg tone dracula 8007 title ghost addamsfa munsters exorcist twilight www getzed co uk pobox36504w45wq 150p', 'current leading bid 151 pause auction send customer care 08718726270', 'tone club sub expired 2 sub reply monoc 4 mono polyc 4 polys 1 weekly 150p per week txt stop 2 stop msg free stream 0871212025016', 'hottest pic straight phone see getting wet wanting xx text pic 89555 txt cost 150p textoperator g696ga 18 xxx', 'credit topped http www bubbletext com renewal pin tgxxrz', 'thats going ruin thesis', 'nah perpetual dd', 'around still asleep v', 'u', 'urgent 4 costa del sol holiday 5000 await collection call 09050090044 toclaim sae tc pobox334 stockport sk38xh cost 1 50 pm max10mins', 'freemsg hey u got 1 video pic fones reply wild txt ill send u pic hurry im bored work xxx 18 150p rcvd stop2stop', 'guaranteed 200 award even 1000 cashto claim ur award call free 08000407165 18 2 stop getstop 88222 php rg21 4jx', 'unsubscribed service get ton sexy babe hunk straight phone go http gotbabes co uk subscription', 'send ur friend receive something ur voice speaking expression 1 childish 2 naughty 3 sentiment 4 rowdy 5 ful attitude 6 romantic 7 shy 8 attractive 9 funny lt gt irritating lt gt lovable reply', 'cheer u tex mecause u werebored yeah okden hunny r uin wk sat sound likeyour havin gr8fun j keep updat countinlots loveme xxxxx', 'get garden ready summer free selection summer bulb seed worth 33 50 scotsman saturday stop go2 notxt co uk', 'guess somebody know secretly fancy wanna find give u call 09065394973 landline datebox1282essexcm61xn 150p min 18', 'someone contacted dating service entered phone fancy find call landline 09111032124 pobox12n146tf150p', 'come u got nothing', 'chosen receive 350 award pls call claim number 09066364311 collect award selected receive valued mobile customer', 'urgent urgent 800 free flight europe give away call b4 10th sept take friend 4 free call claim 09050000555 ba128nnfwfly150ppm', 'dont put phone silent mode ok', 'yes please swimming', 'yeah pretty much best case scenario', 'said gonna snow start around 8 9 pm tonite predicting inch accumulation', 'haha heard text around', 'like jerk', 'sppok ur mob halloween collection nokia logo pic message plus free eerie tone txt card spook 8007', 'thanks ringtone order reference number x49 mobile charged 4 50 tone arrive please call customer service 09065989182 colour red text colour txtstar', 'aiyah ok wat long got improve already wat', 'free entry 2 wkly comp win fa cup final tkts 21st may 2005 text fa 87121 receive entry question std txt rate c apply 08452810075over18', 'like tell deepest darkest fantasy call 09094646631 60p min stop text call 08712460324 nat rate', 'dun b sad dun thk abt already concentrate ur paper k', 'text way cup stop work bus', 'contacted dating service someone know find call land line 09050000928 pobox45w2tg150p', 'freemsg today day ready horny live town love sex fun game netcollex ltd 08700621170150p per msg reply stop end', 'last chance claim ur 150 worth discount voucher today text shop 85023 savamob offer mobile c savamob pobox84 m263uz 3 00 sub 16', 'valued customer pleased advise following recent review mob awarded 1500 bonus prize call 09066364589', 'please call amanda regard renewing upgrading current mobile handset free charge offer end today tel 0845 021 3680 subject c', 'free entry 2 wkly comp win fa cup final tkts 21st may 2005 text fa 87121 receive entry question std txt rate c apply 08452810075over18', 'panasonic bluetoothhdset free nokia free motorola free doublemins doubletxt orange contract call mobileupd8 08000839402 call 2optout', 'probably earlier station think', 'chinatown got porridge claypot rice yam cake fishhead beehoon either eat cheap den go cafe n tok go nydc somethin', 'urgent important information o2 user today lucky day 2 find log onto http www urawinner com fantastic surprise awaiting', 'congrats nokia 3650 video camera phone call 09066382422 call cost 150ppm ave call 3mins vary mobile 16 close 300603 post bcm4284 ldn wc1n3xx', 'customer service announcement recently tried make delivery unable please call 07099833605 schedule ref 9280114', 'always saying welp', 'great hope using connection mode men also co never know old friend lead today', 'dating service asked 2 contact u someone shy call 09058091870 revealed pobox84 m26 3uz 150p', '5 free top polyphonic tone call 087018728737 national rate get toppoly tune sent every week text subpoly 81618 3 per pole unsub 08718727870', 'see forwarding message proof', 'ard 4 lor', 'wamma get laid want real doggin location sent direct mobile join uk largest dogging network txt dog 69696 nyt ec2a 3lp 1 50 msg', 'dear voucher holder claim week offer pc please go http www wtlp co uk text t c apply', 'r giving second chance rahul dengra', 'forwarded 448712404000 please call 08712404000 immediately urgent message waiting', 'sorry hurt', 'ringtoneking 84484', 'hey told name gautham ah', 'certainly put thing perspective something like happens', 'goodmorning grandfather expired leave today', 'thanks ringtone order reference number x49 mobile charged 4 50 tone arrive please call customer service 09065989182', 'spjanuary male sale hot gay chat cheaper call 08709222922 national rate 1 5p min cheap 7 8p min peak stop text call 08712460324 10p min', 'true k u knw dis lt gt', 'urgent trying contact last weekend draw show 900 prize guaranteed call 09061701939 claim code s89 valid 12hrs', 'expect whenever text hope go well tomo', 'thanx birthday already', 'ur balance 600 next question complete landmark big bob b barry c ben text b c 83738 good luck', 'v skint fancied bevy waz gona go meet othrs spoon jst bin watchng planet earth sofa v comfey dont make hav gd night', 'plan family set stone', 'win newest harry potter order phoenix book 5 reply harry answer 5 question chance first among reader', 'camera awarded sipix digital camera call 09061221066 fromm landline delivery within 28 day', 'ha ha nan yalrigu heltini iyo kothi chikku u shared many thing wit far told body even uttered word abt u ur trusting much tell others plz nxt time dont use word ok chikku b', 'oops phone died even know yeah like better', 'reply win 100 weekly professional sport tiger wood play send stop 87239 end service', 'u want 2 meet 2morro', 'av new number wil u use one ta', 'thats cool cum', 'wish think gonna snow much flurry usually get melt hit ground eek snow since lt gt even born', 'bring home wendy', 'cheer card time year already', 'come online today night', 'dont use hook', 'new mobile 2004 must go txt nokia 89545 collect today 1 www 4 tc biz 2optout 087187262701 50gbp mtmsg18 txtauction', 'hmv bonus special 500 pound genuine hmv voucher answer 4 easy question play send hmv 86688 info www 100percent real com', 'free message jamster get crazy frog sound poly text mad1 real text mad2 88888 6 crazy sound 3 gbp week 16 c apply', 'dear voucher holder 2 claim 1st class airport lounge pass using holiday voucher call 08704439680 booking quote 1st class x 2', 'ok watching tv', 'u wan 2 haf lunch da canteen', 'dunno juz askin co got card got 20 4 salon called hair sense tot da one ü cut ur hair', 'beauty life next second hide thousand secret wish every second wonderful ur life gud n8', 'discount code rp176781 stop message reply stop www regalportfolio co uk customer service 08717205546', 'rock yr chik get 100 filthy film xxx pic yr phone rply filth 69669 saristar ltd e14 9yt 08701752560 450p per 5 day stop2 cancel', '1 new voicemail please call 08719181503', 'going take babe', 'guaranteed 1000 cash 2000 prize claim yr prize call customer service representative 08714712412 10am 7pm cost 10p', 'sex ur mobile free sexy pic jordan text babe 88600 every wk get sexy celeb pocketbabe co uk 4 pic 16 3 wk 087016248', 'said ü dun haf passport smth like dat ü juz send email account', 'abeg make profit start using get sponsor next event', 'urgent 2nd attempt contact u 900 prize yesterday still awaiting collection claim call 09061702893', 'checking really miss seeing jeremiah great month', 'sorry missed babe late slept hope enjoy driving lesson boytoy miss teasing kiss', 'discussed mother ah', 'call message missed call', 'final chance claim ur 150 worth discount voucher today text yes 85023 savamob member offer mobile c savamob pobox84 m263uz 3 00 sub 16', 'auction round 4 highest bid 54 next maximum bid 71 bid send bid e g 10 bid 10 83383 good luck', 'smsservices yourinclusive text credit pls goto www comuk net login 3qxj9 unsubscribe stop extra charge help 08702840625 comuk 220 cm2 9ae', 'haiyoh maybe hamster jealous million', 'tried contact response offer new nokia fone camcorder hit reply call 08000930705 delivery', 'hard live 121 chat 60p min choose girl connect live call 09094646899 cheap chat uk biggest live service vu bcm1896wc1n3xx', 'moby pub quiz win 100 high street prize u know new duchess cornwall txt first name 82277 unsub stop 1 50 008704050406 sp', 'record indicate u maybe entitled 5000 pound compensation accident claim 4 free reply claim msg 2 stop txt stop', '2nd time tried contact u u 400 prize 2 claim easy call 087104711148 10p per minute bt national rate', 'stop club tone replying stop mix see tone com enjoy html term club tone cost gbp4 50 week mfl po box 1146 mk45 2wt 2 3', 'ya came ago', 'december mobile 11mths entitled update latest colour camera mobile free call mobile update co free 08002986906', 'aight tomorrow around lt gt', 'text82228 get ringtones logo game www txt82228 com question info txt82228 co uk', 'shit surprised went spent evening french guy met town fooled around bit let fuck', 'heard u4 call 4 rude chat private line 01223585334 cum wan 2c pic gettin shagged text pix 8552 2end send stop 8552 sam xxx', 'summer finally fancy chat flirt sexy single yr area get matched reply summer free 2 join optout txt stop help08714742804', 'sorry call later', 'gud mrng dear hav nice day', 'asked call ok', 'uhhhhrmm isnt tb test bad youre sick', 'glad following dream', 'freemsg replied text randy sexy female live local luv hear u netcollex ltd 08700621170150p per msg reply stop end', 'free msg billed mobile number mistake shortcode 83332 please call 08081263000 charge refunded call free bt landline', 'important information 4 orange user today lucky day 2find log onto http www urawinner com fantastic surprise awaiting', 'way stay oh', 'prob send email', '4mths half price orange line rental latest camera phone 4 free phone 11mths call mobilesdirect free 08000938767 update or2stoptxt', 'u attend ur driving lesson many time wk n day', 'glad went well come 11 plenty time claire go work', 'er yeah b 15 26 sorry tell pub cafe sit come wen u', 'hurry home soup done', 'chance win free bluetooth headset simply reply back adp', 'aight plan come later tonight', 'urgent call 09066612661 landline complementary 4 tenerife holiday 10 000 cash await collection sae c po box 3 wa14 2px 150ppm 18 sender hol offer', 'want new nokia 3510i colour phone deliveredtomorrow 300 free minute mobile 100 free text free camcorder reply call 08000930705', 'hi elaine today meeting confirmed', 'mobile 11 month u r entitled update latest colour mobile camera free call mobile update co free 08002986030', 'mathews tait edward anderson', 'sexy sexy cum text im wet warm ready porn u fun msg free recd msg 150p inc vat 2 cancel text stop', 'congrats nokia 3650 video camera phone call 09066382422 call cost 150ppm ave call 3mins vary mobile 16 close 300603 post bcm4284 ldn wc1n3xx', 'free tone hope enjoyed new content text stop 61610 unsubscribe help 08712400602450p provided tones2you co uk', 'want 750 anytime network min 150 text new video phone five pound per week call 08000776320 reply delivery tomorrow', 'block breaker come deluxe format new feature great graphic mobile buy 5 replying get bbdeluxe take challenge', 'private 2003 account statement show 800 un redeemed point call 08715203685 identifier code 4xx26 expires 13 10 04', 'ok sent u da latest version da project', '10 min later k', 'bank granite issue strong buy explosive pick member 300 nasdaq symbol cdgt 5 00 per', 'free entry gr8prizes wkly comp 4 chance win latest nokia 8800 psp 250 cash every wk txt great 80878 http www gr8prizes com 08715705022', 'today vodafone number ending 4882 selected receive 350 award number match call 09064019014 receive 350 award', 'hi moved in2 pub would great 2 c u u cud come', 'hack chat get backdoor entry 121 chat room fraction cost reply neo69 call 09050280520 subscribe 25p pm dp bcm box 8027 ldn wc1n3xx', 'fine bitch later', 'theoretically yeah could able come', 'well done england get official poly ringtone colour flag yer mobile text tone flag 84199 opt txt eng stop box39822 w111wx 1 50', 'place man', 'u nokia 6230 plus free digital camera u get u win free auction take part send nokia 83383 pobox114 14tcr w1 16', '1 polyphonic tone 4 ur mob every week txt pt2 87575 1st tone free get txtin tell ur friend 150p tone 16 reply hl 4info', 'sorry battery died come getting gram place', 'u download fring app', 'weekly cool mob tone ready download week new tone include 1 crazy frog axel f 2 akon lonely 3 black eyed dont p info n', 'searching good dual sim mobile pa', 'free game get rayman golf 4 free o2 game arcade 1st get ur game setting reply post save activ8 press 0 key arcade termsapply', 'great news call freefone 08006344447 claim guaranteed 1000 cash 2000 gift speak live operator', '8007 free 1st week no1 nokia tone 4 ur mob every week txt nokia 8007 get txting tell ur mate www getzed co uk pobox 36504 w4 5wq norm 150p tone 16', 'free camera phone linerental 4 49 month 750 cross ntwk min 1 2 price txt bundle deal also avble call 08001950382 call2optout j mf', '400 xmas reward waiting computer randomly picked loyal mobile customer receive 400 reward call 09066380611', 'went fast asleep dear take care', 'yes think office lap room think thats last day didnt shut', '500 new mobile 2004 must go txt nokia 89545 collect today 1 www 4 tc biz 2optout 087187262701 50gbp mtmsg18 txtauction', 'pls stop bootydelious 32 f inviting friend reply yes 434 434 see www sm ac u bootydelious stop send stop frnd 62468', 'abj serving staying dad alone', 'r meeting', 'yun ah ü wkg btw ü go nu sc ü wana specialise wad', 'win 1000 cash prize prize worth 5000', 'january male sale hot gay chat cheaper call 08709222922 national rate 1 5p min cheap 7 8p min peak stop text call 08712460324 10p min', 'congratulation thanks good friend u 2 000 xmas prize 2 claim easy call 08712103738 10p per minute bt national rate', 'cmon babe make horny turn txt fantasy babe im hot sticky need reply cost 1 50 2 cancel send stop', 'turn friend staying whole show back til lt gt feel free go ahead smoke lt gt worth', 'want see pretty pussy', 'wishing great day moji told offer always speechless offer easily go great length behalf stunning exam next friday keep touch sorry', 'already back home probably', 'sm auction brand new nokia 7250 4 auction today auction free 2 join take part txt nokia 86021', 'sale arsenal dartboard good condition double treble', '18 day euro2004 kickoff u kept informed latest news result daily unsubscribe send get euro stop 83222', 'get official england poly ringtone colour flag yer mobile tonight game text tone flag 84199 optout txt eng stop box39822 w111wx 1 50', 'romantic paris 2 night 2 flight 79 book 4 next year call 08704439680ts c apply', 'ur hmv quiz cash balance currently 500 maximize ur cash send hmv1 86688 150p msg', 'hi dis yijue would happy work wif ü gek1510', 'congratulation ur awarded 500 cd voucher 125gift guaranteed free entry 2 100 wkly draw txt music 87066 tncs www ldew com1win150ppmx3age16', 'boy sweet word left morning sigh go day love start studying', 'sorry call later', 'know u u know send chat 86688 let find 150p msg rcvd hg suite342 2lands row w1j6hl ldn 18 year', 'double min double txt 1 2 price linerental latest orange bluetooth mobile call mobileupd8 latest offer 08000839402 call2optout lf56', 'today voda number ending 5226 selected receive 350 award hava match please call 08712300220 quoting claim code 1131 standard rate app', 'lol feel bad use money take steak dinner', 'dorothy kiefer com bank granite issue strong buy explosive pick member 300 nasdaq symbol cdgt 5 00 per', 'want funk ur fone weekly new tone reply tones2u 2 text www ringtones co uk original n best tone 3gbp network operator rate apply', '1000 flirting txt girl bloke ur name age eg girl zoe 18 8007 join get chatting', 'great p diddy neighbor come toothpaste every morning', 'leave de start prepare next', 'www applausestore com monthlysubscription 50p msg max6 month csc web age16 2stop txt stop', 'ur cash balance currently 500 pound maximize ur cash send collect 83600 150p msg cc 08718720201 po box 114 14 tcr w1', 'hoping get away 7 langport still town tonight', 'congratulation thanks good friend u 2 000 xmas prize 2 claim easy call 08718726978 10p per minute bt national rate', 'bloomberg message center 447797706009 wait apply future http career bloomberg com', 'guaranteed 1000 cash 2000 prize claim yr prize call customer service representative', 'k k cant come search job', 'congratulation ur awarded either 500 cd gift voucher free entry 2 100 weekly draw txt music 87066 tncs www ldew com1win150ppmx3age16', 'hi chachi tried calling u unable reach u pl give missed cal u c tiz msg kanagu', 'get free mobile video player free movie collect text go 89105 free extra film ordered c apply 18 yr', 'eastenders tv quiz flower dot compare violet e tulip f lily txt e f 84025 4 chance 2 win 100 cash wkent 150p16', 'ha ha popped loo hello ed hello', 'parent kidz friend n colleague screaming surprise waiting sofa naked', 'hi baby im cruisin girl friend r u 2 give call hour home thats alright fone fone love jenny xxx', 'santa calling would little one like call santa xmas eve call 09058094583 book time', 'right make appointment right', 'ü come', 'r u scratching', 'gonna ask lol think 7', 'yep great loxahatchee xmas tree burning lt gt start hour', 'hi please get lt gt dollar loan pay back mid february pls', 'call 09094100151 use ur min call cast 10p min mob vary service provided aom gbp5 month aom box61 m60 1er u stop age 18', 'joy father john john name joy father mandan', 'didnt work oh ok goodnight fix ready time wake dearly missed good night sleep', 'wow boy r back take 2007 uk tour win vip ticket pre book vip club txt club 81303 trackmarque ltd info vipclub4u', 'quite ok bit ex u better go eat smth else feel guilty', 'pls come quick cant bare', 'ou guaranteed latest nokia phone 40gb ipod mp3 player 500 prize txt word collect 83355 ibhltd ldnw15h 150p mtmsgrcvd18', '', 'urgent trying contact u today draw show 2000 prize guaranteed call 09058094507 land line claim 3030 valid 12hrs', '5 2 work timing', 'fetch yun u fetch', 'someone conacted dating service entered phone fancy find call landline 09111030116 pobox12n146tf15', 'urgent trying contact u today draw show 800 prize guaranteed call 09050001295 land line claim a21 valid 12hrs', 'splashmobile choose 1000 gr8 tone wk subscrition service weekly tone costing 300p u one credit kick back enjoy', 'moji love word rich day', 'ey calm downon theacusations itxt u co iwana know wotu r doin thew end haventcn u age ring ur up4 nething sat love j xxx', 'hope enjoyed new content text stop 61610 unsubscribe help 08712400602450p provided tones2you co uk', 'could kiss feel next', '1 nokia tone 4 ur mob every week txt nok 87021 1st tone free get txtin tell ur friend 150p tone 16 reply hl 4info', 'urgent call 09066350750 landline complimentary 4 ibiza holiday 10 000 cash await collection sae c po box 434 sk3 8wp 150 ppm 18', 'good luck draw take place 28th feb 06 good luck removal send stop 87239 customer service 08708034412', 'goodmorning sleeping ga', 'good baby', 'tried contact reply offer 750 min 150 textand new video phone call 08002988890 reply free delivery tomorrow', 'receiving week triple echo ringtone shortly enjoy', 'still maybe leave credit card get gas get back like told', 'free ringtone text first 87131 poly text get 87131 true tone help 0845 2814032 16 1st free tone 3x 150pw e nd txt stop', '3 received mobile content enjoy', 'sorry meeting call later', 'ok ok ok whats ur today plan', 'great getting worried know wonderful caring person like best life know u r wonderful god love', 'didnt holla', 'goodnight sleep well da please take care pa please', 'clothes jewelry trip', 'dear u invited xchat final attempt contact u txt chat 86688', 'error', 'ok take ur time n enjoy ur dinner', 'haha kidding papa need drug', 'heard abt tat', 'great news call freefone 08006344447 claim guaranteed 1000 cash 2000 gift speak live operator', 'double min txts orange 1 2 price linerental motorola sonyericsson b tooth free nokia free call mobileupd8 08000839402 or2optout hv9d', 'free 1st week no1 nokia tone 4 ur mobile every week txt nokia 8077 get txting tell ur mate www getzed co uk pobox 36504 w45wq 16 norm150p tone', 'know need get hotel got invitation apologise cali sweet come english bloke weddin', 'latest news police station toilet stolen cop nothing go', 'specially selected receive 3000 award call 08712402050 line close cost 10ppm 16 c apply ag promo', 'ha ha cool cool chikku chikku db', 'try neva mate', 'god picked flower dippeditinadew lovingly touched itwhichturnedinto u gifted tomeandsaid friend 4u', 'u turn heater heater set lt gt degree', 'buzz hey love think hope day go well sleep miss babe long moment together loving smile', 'forwarded 21870000 hi mailbox messaging sm alert 40 match please call back 09056242159 retrieve message match cc100p min', 'r u still working', 'u win 100 music gift voucher every week starting txt word draw 87066 tscs www ldew com skillgame 1winaweek age16 150ppermesssubscription', 'jay say double faggot', 'gone get info bt dont know', 'pdate_now double min 1000 txts orange tariff latest motorola sonyericsson nokia bluetooth free call mobileupd8 08000839402 call2optout yhl', 'k da many page want', 'yo call get chance friend mine wanted ask big order', 'got message ignoring yes shopping', 'sen told going join uncle finance cbe', '25p 4 alfie moon child need song ur mob tell ur m8s txt tone charity 8007 nokias poly charity polys zed 08701417012 profit 2 charity', 'happy new year princess', 'ur going 2 bahamas callfreefone 08081560665 speak live operator claim either bahamas cruise 2000 cash 18 opt txt x 07786200117', 'please call customer service representative freephone 0808 145 4742 9am 11pm guaranteed 1000 cash 5000 prize', 'much got cleaning', 'know u mean king havin credit goin2bed night night sweet only1more sleep', 'whats coming hill monster hope great day thing r going fine busy though', 'right think', 'lord ring return king store reply lotr 2 june 4 chance 2 win lotr soundtrack cd stdtxtrate reply stop end txts', 'urgh coach hot smell chip fat thanks especially duvet predictive text word', 'aight lemme know', 'gent trying contact last weekend draw show 1000 prize guaranteed call 09064012160 claim code k52 valid 12hrs 150ppm', 'ringtone club get uk single chart mobile week choose top quality ringtone message free charge', 'depends individual lor e hair dresser say pretty parent say look gong u kaypoh also dunno wat collecting', 'u want xmas 100 free text message new video phone half price line rental call free 0800 0721072 find', 'much would cost hire hitman', 'short cute good person dont try prove gud noon', '1 new message please call 08712400200', 'congratulation ur awarded 500 cd voucher 125gift guaranteed free entry 2 100 wkly draw txt music 87066 tncs www ldew com1win150ppmx3age16', 'sez hows u de arab boy hope u r good give love 2 evry1 love ya eshxxxxxxxxxxx', 'pls full name joke school co fee university florida seem actually lt gt k pls holla back', 'co daddy arranging time c wat time fetch ü mah', 'probably gonna swing wee bit', 'send email mind lt gt time per night', 'hungry buy smth home', '2p per min call germany 08448350055 bt line 2p per min check planettalkinstant com info c text stop opt', 'time ur flight tmr', 'forwarded 21870000 hi mailbox messaging sm alert 4 message 21 match please call back 09056242159 retrieve message match', 'message free welcome new improved sex dogging club unsubscribe service reply stop msg 150p 18', 'important information 4 orange user 0796xxxxxx today ur lucky day 2 find log onto http www urawinner com fantastic prizeawaiting', 'gr8 poly tone 4 mob direct 2u rply poly title 8007 eg poly breathe1 title crazyin sleepingwith finest ymca getzed co uk pobox365o4w45wq 300p', 'let use next week princess', 'account credited 500 free text message activate txt word credit 80488 c www 80488 biz', 'private 2004 account statement 07742676969 show 786 unredeemed bonus point claim call 08719180248 identifier code 45239 expires', 'hey really horny want chat see naked text hot 69698 text charged 150pm unsubscribe text stop 69698', '6times', 'husband', 'pas dis ur contact n see wat u get red luv wid u blue u put smile face purple u r realy hot pink u r swt orange thnk lyk u green realy wana go wid u yelow wnt u bck black jealous u brown miss nw plz giv one color', 'want new nokia 3510i colour phone delivered tomorrow 200 free minute mobile 100 free text free camcorder reply call 8000930705', 'u switch fone dammit', 'thanks loving rock', 'u go back urself lor', 'hear loud scream lt gt minute cause gyno shoving thing belong', '2 2 146tf150p', 'ok pa nothing problem', 'lol yes add spice day', 'dear matthew please call 09063440451 landline complimentary 4 lux tenerife holiday 1000 cash await collection ppm150 sae c box334 sk38xh', '1st wk free gr8 tone str8 2 u wk txt nokia 8007 classic nokia tone hit 8007 polys nokia 150p poly 200p 16', 'thanx 4 time spent 2geva bin mint ur baby want u xxxx', 'spring coming early yay', 'sir 8 hr trip bus last week another audition next wednesday think might drive time', 'nice wait texting right gonna pay ticket ya know', 'ur ringtone service changed 25 free credit go club4mobiles com choose content stop txt club stop 87070 150p wk club4 po box1146 mk45 2wt', 'jus finish bathing', 'raji pls favour pls convey birthday wish nimya pls today birthday', 'si lor juz watched italian job', 'claire havin borin time alone u wanna cum 2nite chat 09099725823 hope 2 c u luv claire xx call 1 minmoremobsemspobox45po139wa', 'buy space invader 4 chance 2 win orig arcade game console press 0 game arcade std wap charge see o2 co uk game 4 term setting purchase', 'tap spile seven pub gas st broad st canal ok', 'urgent ur awarded complimentary trip eurodisinc trav aco entry41 1000 claim txt dis 87121 18 6 1 50 morefrmmob shracomorsglsuplt 10 ls1 3aj', 'msg mobile content order resent previous attempt failed due network error query customersqueries netvision uk com', 'buy one egg da please', 'please call customer service representative 0800 169 6031 10am 9pm guaranteed 1000 cash 5000 prize', 'show ur colour euro 2004 2 4 1 offer get england flag 3lions tone ur phone click following service message info', 'said look pretty wif long hair wat thk cutting quite short 4 leh', 'cant pick phone right pls send message', 'probably tomorrow even later tonight something going', 'download many ringtones u like restriction 1000 2 choose u even send 2 yr buddy txt sir 80082 3', 'also remember get dobby bowl car', 'night ended another day morning come special way may smile like sunny ray leaf worry blue blue bay gud mrng', 'want new video handset 750 anytime network min half price line rental camcorder reply call 08000930705 delivery tomorrow', 'ur chance win 250 cash every wk txt action 80608 c www movietrivia tv custcare 08712405022 1x150p wk', 'living simple loving also simple laughing simple winning tooo simple simple difficult gud nte', 'congratulation ur awarded either 500 cd gift voucher free entry 2 100 weekly draw txt music 87066 tncs www ldew com 1 win150ppmx3age16', 'know u u know send chat 86688 let find 150p msg rcvd hg suite342 2lands row w1j6hl ldn 18 year', 'lost 4 pound since doc visit last week woot woot gonna celebrate stuffing face', 'babe need advice', 'many thing antibiotic used chest abdomen gynae infection even bone infection', 'many happy return day wish happy birthday', 'response one powerful weapon 2 occupy place others heart always give response 2 care 4 u gud night swt dream take care', 'free entry 2 weekly comp chance win ipod txt pod 80182 get entry std txt rate c apply 08452810073 detail 18', 'u bin awarded 50 play 4 instant cash call 08715203028 claim every 9th player win min 50 500 optout 08718727870', 'lei', 'england v macedonia dont miss goal team news txt ur national team 87077 eg england 87077 try wale scotland 4txt ú1 20 poboxox36504w45wq 16', 'ur cash balance currently 500 pound maximize ur cash send go 86688 150p msg cc 08718720201 po box 114 14 tcr w1', 'next month get upto 50 call 4 ur standard network charge 2 activate call 9061100010 c wire3 net 1st4terms pobox84 m26 3uz cost 1 50 min mobcudb', 'cant pick phone right pls send message', 'fantasy football back tv go sky gamestar sky active play 250k dream team scoring start saturday register sky opt 88088', 'xmas new year eve ticket sale club day 10am till 8pm thurs fri sat night week selling fast', 'lol u drunkard hair moment yeah still 4 tonight wats plan', 'freemsg fancy flirt reply date join uk fastest growing mobile dating service msg rcvd 25p optout txt stop 83021 reply date', 'well leave class babe never came back hope nice sleep love', 'good afternoon love job prospect missing lazy bleak hmmm happy filled love', 'tmr ü brin lar aiya later come n c lar mayb ü neva set properly ü got da help sheet wif ü', 'k see k', 'valued customer pleased advise following recent review mob awarded 1500 bonus prize call 09066368470', 'fuck babe miss sooooo much wish sleep bed lonely go sleep dream love', 'thanks ringtone order reference t91 charged gbp 4 per week unsubscribe anytime calling customer service 09057039994', 'askd u question hour answer', 'update_now xmas offer latest motorola sonyericsson nokia free bluetooth double min 1000 txt orange call mobileupd8 08000839402 call2optout f4q', '', 'free 1st week no1 nokia tone 4 ur mob every week txt nokia 87077 get txting tell ur mate zed pobox 36504 w45wq norm150p tone 16', '5p 4 alfie moon child need song ur mob tell ur m8s txt tone charity 8007 nokias poly charity polys zed 08701417012 profit 2 charity', 'gsoh good spam lady u could b male gigolo 2 join uk fastest growing men club reply oncall mjzgroup 08714342399 2stop reply stop msg 1 50rcvd', 'rt king pro video club need help info ringtoneking co uk call 08701237397 must 16 club credit redeemable www ringtoneking co uk enjoy', 'drop tank', 'captain vijaykanth comedy captain tv drunken', 'urgent mobile number 2000 bonus caller prize 10 06 03 2nd attempt reach call 09066368753 asap box 97n7qp 150ppm', 'guaranteed latest nokia phone 40gb ipod mp3 player 500 prize txt word collect 83355 ibhltd ldnw15h 150p mtmsgrcvd18', 'okay lor wah like def wont let u go haha say term condition', 'themob hit link get premium pink panther game new 1 sugababes crazy zebra animation badass hoody wallpaper 4 free', 'today vodafone number ending 0089 last four digit selected received 350 award number match please call 09063442151 claim 350 award', '88800 89034 premium phone service call 08718711108', 'hot live fantasy call 08707509020 20p per min ntt ltd po box 1327 croydon cr9 5wb 0870 national rate call', 'find way include detail', 'trying find chinese food place around', 'also maaaan missing', 'u love someone dont make love u much u love much dont want loved anyone except gud nit', 'test earlier appreciate call tomorrow', 'enjoy watching playing football basketball anything outdoors', 'urgent 1 week free membership 100 000 prize jackpot txt word claim 81010 c www dbuk net lccltd pobox 4403ldnw1a7rw18', 'believe true incredible txts reply g learn truly amazing thing blow mind o2fwd 18p txt', 'ok many buy', 'sorry call later', 'customer service announcement recently tried make delivery unable please call 07090298926 schedule ref 9307622', 'boltblue tone 150p reply poly mono eg poly3 1 cha cha slide 2 yeah 3 slow jamz 6 toxic 8 come stop 4 tone txt', 'mobile 11mths update free orange latest colour camera mobile unlimited weekend call call mobile upd8 freefone 08000839402 2stoptxt', 'nw came hme da', 'ur chance win 250 cash every wk txt action 80608 c www movietrivia tv custcare 08712405022 1x150p wk', 'ya one slow poo', 'none happening til get though', '44 7732584351 want new nokia 3510i colour phone deliveredtomorrow 300 free minute mobile 100 free text free camcorder reply call 08000930705', 'okmail dear dave final notice collect 4 tenerife holiday 5000 cash award call 09061743806 landline tc sae box326 cw25wx 150ppm', '449050000301 2 000 price claim call 09050000301', 'shall call dear food', 'going write ccna exam week', 'thanks keep mind', 'planning usually stop find hella weed smoke hella weed', 'joining today formally pls keep praying talk later', 'hi babe chloe r u smashed saturday night great weekend u missing sp visionsms com text stop stop 150p text', 'one good partnership going take lead', 'new theory argument win situation loses person dont argue ur friend kick amp say always correct', 'dude got haircut breezy', 'blank blank wat blank lol', 'someone contacted dating service entered phone becausethey fancy find call landline 09058098002 pobox1 w14rg 150p', 'ee msg na poortiyagi odalebeku hanumanji 7 name 1 hanuman 2 bajarangabali 3 maruti 4 pavanaputra 5 sankatmochan 6 ramaduth 7 mahaveer ee 7 name lt gt janarige ivatte kalisidare next saturday olage ondu good news keluviri maretare inde 1 dodda problum nalli siguviri idu matra lt gt true neglet', 'claim 200 shopping spree call 08717895698 mobstorequiz10ppm', 'please call customer service representative freephone 0808 145 4742 9am 11pm guaranteed 1000 cash 5000 prize', 'posible dnt live lt gt century cm frwd n thnk different', 'sorry earlier putting fire around talk 9 actually life lol', 'ha ha ha good joke girl situation seeker', 'yeah work fine started last week stuff dull easy guy fun', 'actually mobile full msg work online need send lt gt sent msg wil explain u later', 'old orchard near univ', 'hows favourite person today r u workin hard sleep last nite nearly rang u 4 30', 'yeah thought lemme know anything goin later', 'u secret admirer looking 2 make contact u find r reveal think ur special call 09058094594', 'need 8th campus atm could pick hour two', 'want new nokia 3510i colour phone deliveredtomorrow 300 free minute mobile 100 free text free camcorder reply call 08000930705', 'brand new mobile music service live free music player arrive shortly install phone browse content top artist', 'free unlimited hardcore porn direct 2 mobile txt porn 69200 get free access 24 hr chrgd 50p per day txt stop 2exit msg free', 'dai da send resume id', '500 free text msg text ok 80488 credit account', 'married local woman looking discreet action 5 real match instantly phone text match 69969 msg cost 150p 2 stop txt stop bcmsfwc1n3xx', 'chance reality fantasy show call 08707509020 20p per min ntt ltd po box 1327 croydon cr9 5wb 0870 national rate call', 'ok chikku 1 favourite song', 'call germany 1 penny per minute call fixed line via access number 0844 861 85 85 prepayment direct access www telediscount co uk', 'thats cool day', 'urgent mobile awarded 2 000 bonus caller prize 1 08 03 2nd attempt contact call 0871 4719 523 box95qu bt national rate', 'effect irritation ignore', 'sent like', 'sm ac sun0819 post hello seem cool wanted say hi hi stop send stop 62468', 'ok omw castor', 'ok r meeting later', 'email alertfrom jeri stewartsize 2kbsubject low cost prescripiton drvgsto listen email call 123', 'get 3 lion england tone reply lionm 4 mono lionp 4 poly 4 go 2 www ringtones co uk original n best tone 3gbp network operator rate apply', 'u r beautiful girl ive ever seen u r baby come c common room', 'cashbin co uk get lot cash weekend www cashbin co uk dear welcome weekend got biggest best ever cash give away', '100 dating service cal l 09064012103 box334sk38ch', 'ok', 'awesome think get 8th usf time tonight', 'congrats 1 year special cinema pas 2 call 09061209465 c suprman v matrix3 starwars3 etc 4 free bx420 ip4 5we 150pm dont miss', 'hard true much show amp express love someone much hurt leave get seperated 鈥 〨ud evening', 'hmm yeah grooved im looking forward pound special', '07732584351 rodger burn msg tried call reply sm free nokia mobile free camcorder please call 08000930705 delivery tomorrow', 'hard live 121 chat 60p min choose girl connect live call 09094646899 cheap chat uk biggest live service vu bcm1896wc1n3xx', 'watching cartoon listening music amp eve go temple amp church u', 'good morning dear great amp successful day', 'thanks subscription ringtone uk mobile charged 5 month please confirm replying yes reply charged', 'guess somebody know secretly fancy wanna find give u call 09065394514 landline datebox1282essexcm61xn 150p min 18', 'hi ur lookin 4 saucy daytime fun wiv busty married woman free next week chat 2 sort time 09099726429 janinexx call 1 minmobsmorelkpobox177hp51fl', 'winner u specially selected 2 receive 1000 4 holiday flight inc speak live operator 2 claim 0871277810910p min 18', 'hi spoke maneesha v like know satisfied experience reply toll free yes', 'take mokka player', 'sm service inclusive text credit pls gotto www comuk net login 3qxj9 unsubscribe stop extra charge help 08702840625 comuk 220cm2 9ae', 'important information 4 orange user 0789xxxxxxx today lucky day 2find log onto http www urawinner com fantastic surprise awaiting', 'thank generally date brothas', 'hello need posh bird chap user trial prod champneys put need address dob asap ta r', 'anyway many good evening u', 'shop till u drop either 10k 5k 500 cash 100 travel voucher call 09064011000 ntt po box cr01327bt fixedline cost 150ppm mobile vary', 'still tonight', 'private 2003 account statement 07753741225 show 800 un redeemed point call 08715203677 identifier code 42478 expires 24 10 04', 'reading text sent meant joke read light', 'bored housewife chat n date 0871750 77 11 bt national rate 10p min landline', 'want new video phone 750 anytime network min half price line rental free text 3 month reply call 08000930705 free delivery', 'reminder downloaded content already paid goto http doit mymoby tv collect content', 'several sir', 'k give kvb acc detail', 'contract mobile 11 mnths latest motorola nokia etc free double min text orange tariff text yes callback remove record', '09066362231 urgent mobile 07xxxxxxxxx 2 000 bonus caller prize 02 06 03 2nd attempt reach call 09066362231 asap', 'see cup coffee animation', 'whatever im pretty pissed', 'text pas 69669 collect polyphonic ringtones normal gprs charge apply enjoy tone', 'lol u still feeling sick', 'even cant close eye vava playing umma', 'registered optin subscriber ur draw 4 100 gift voucher entered receipt correct an 80062 whats no1 bbc chart', 'r still meeting 4 dinner tonight', 'bring got', 'oh k think wi nz player unsold', 'yup ü comin', 'u secret admirer looking 2 make contact u find r reveal think ur special call 09065171142 stopsms 08718727870150ppm', 'urgent mobile awarded 2000 bonus caller prize 5 9 03 final try contact u call landline 09064019788 box42wr29c 150ppm', 'opinion 1 2 jada 3 kusruthi 4 lovable 5 silent 6 spl character 7 matured 8 stylish 9 simple pls reply', 'going wipro interview today', 'hey tmr maybe meet yck', 'oops mum somerset bit far back tomo see soon x', 'hey cutie go wale kinda ok like hill shit still avent killed', 'yeah probably sure ilol let u know personally wuldnt bother ur goin mite well', 'urgent mobile number awarded 2000 prize guaranteed call 09061790121 land line claim 3030 valid 12hrs 150ppm', 'know called', 'way ur home', 'wen ur lovable bcums angry wid u dnt take seriously coz angry childish n true way showing deep affection care n luv kettoda manda nice day da', 'ur cash balance currently 500 pound maximize ur cash send cash 86688 150p msg cc 08718720201 po box 114 14 tcr w1', 'time fix spelling sometimes get completely diff word go figure', 'really good see day dudette missing', 'aiyo lesson early still sleepin haha okie u go home liao den confirm w lor', 'ah poop look like ill prob send laptop get fixed cuz gpu problem', 'hoping enjoyed game yesterday sorry touch pls know fondly bein thot great week abiola', 'u subscribed best mobile content service uk 3 per ten day send stop 83435 helpline 08706091795', 'cme want go ho 2morow wil cme got dear didnt say time', 'cha quiteamuzing scool babe probpop cu satthen hunny 4brekkie love jen xxx psxtra lrg portion 4 please', 'bookedthe hut also time way', 'win newest harry potter order phoenix book 5 reply harry answer 5 question chance first among reader', 'sexy single waiting text age followed gender wither f e g 23f gay men text age followed g e g 23g', 'u secret admirer looking 2 make contact u find r reveal think ur special call 09058094599', 'ree entry 2 weekly comp chance win ipod txt pod 80182 get entry std txt rate c apply 08452810073 detail 18', 'update_now 12mths half price orange line rental 400mins call mobileupd8 08000839402 call2optout j5q', 'networking job', 'lol trying make day little interesting', 'er enjoyin indian mo yep sall good hehe hows bout u shexy pete xx', 'u get 2 phone wanna chat 2 set meet call 09096102316 u cum 2moro luv jane xx call 1 minmoremobsemspobox45po139wa', 'ugh got outta class', '2 half year missed friendship', 'thts wat wright brother fly', 'u got person story', 'recpt 1 3 ordered ringtone order processed', 'going thru different feeling wavering decision coping individual time heal everything believe', 'ur paper e morn aft tmr', 'yes innocent fun', 'hmm thinking lor', 'done oredi', '1000 winner guaranteed caller prize final attempt contact claim call 09071517866 150ppmpobox10183bhamb64xe', 'winner u specially selected 2 receive 1000 cash 4 holiday flight inc speak live operator 2 claim 0871277810810', 'new textbuddy chat 2 horny guy ur area 4 25p free 2 receive search postcode gaytextbuddy com txt one name 89693 08715500022 rpl stop 2 cnl', 'still grand prix', 'freemsg hi baby wow got new cam moby wanna c hot pic fancy chat im w8in 4utxt rply chat 82242 hlp 08712317606 msg150p 2rcv', 'dear relieved westonzoyland going plan end', 'valued customer pleased advise following recent review mob awarded 1500 bonus prize call 09066364589', 'today vodafone number ending 4882 selected receive 350 award number match call 09064019014 receive 350 award', 'lastest stereophonics marley dizzee racal libertine stroke win nookii game flirt click themob wap bookmark text wap 82468', 'hi babe jordan r u im home abroad lonely text back u wanna chat xxsp visionsms com text stop stopcost 150p 08712400603', 'ur going 2 bahamas callfreefone 08081560665 speak live operator claim either bahamas cruise 2000 cash 18 opt txt x 07786200117', 'tried contact reply offer video handset 750 anytime network min unlimited text camcorder reply call 08000930705', 'ugh hopefully asus ppl dont randomly reformat', 'another month need chocolate weed alcohol', 'free message activate 500 free text message replying message word free term condition visit www 07781482378 com', 'sparkling shopping break 45 per person call 0121 2025050 visit www shortbreaks org uk', 'thanks 4 continued support question week enter u in2 draw 4 100 cash name new u president txt an 80082', 'bought one ringtone getting text costing 3 pound offering tone etc', '87077 kick new season 2wks free goal news ur mobile txt ur club name 87077 eg villa 87077', 'want 2 get laid tonight want real dogging location sent direct 2 ur mob join uk largest dogging network bt txting gravel 69888 nt ec2a 31p msg 150p', 'win year supply cd 4 store ur choice worth 500 enter 100 weekly draw txt music 87066 t c www ldew com subs16 1win150ppmx3', 'congrats 2 mobile 3g videophones r call 09061744553 videochat wid ur mate play java game dload polyh music noline rentl bx420 ip4 5we 150pm', 'fine good hear dear happy new year oh', 'news hassling get weed week andres money haughaighgtujhyguj', 'yep like pink furniture tho', 'nothing ever easy looking reason take risk life love', 'urgent trying contact u today draw show 800 prize guaranteed call 09050001808 land line claim m95 valid12hrs', 'yes u texted pshew missing much', 'like personal sized', 'st andre virgil cream', 'ya knw u vl giv ok thanks kano anyway enjoy wit ur family wit 1st salary', 'please dont say like hi hi hi', 'sorry u unsubscribe yet mob offer package min term 54 week pls resubmit request expiry reply themob help 4 info', 'wat make people dearer de happiness dat u feel u meet de pain u feel u miss dem', 'get free call', 'sunshine quiz wkly q win top sony dvd player u know country liverpool played mid week txt ansr 82277 1 50 sp tyrone', '2nd attempt contract u week top prize either 1000 cash 200 prize call 09066361921', 'ur awarded city break could win 200 summer shopping spree every wk txt store 88039 skilgme tscs087147403231winawk age16 1 50perwksub', '1 new voicemail please call 08719181513', 'big god bring success', 'open rebtel firefox load put plus sign user name place show two number lower number number pick number pin display okay', 'yeah jay sort fucking retard', 'dear voucher holder claim week offer pc please go http www e tlp co uk expressoffer t c apply stop text txt stop 80062', 'winner u specially selected 2 receive 1000 cash 4 holiday flight inc speak live operator 2 claim 0871277810810', 'going bed prin', 'check got detailed message', 'anything lor go go lor', 'wa ur openin sentence formal anyway fine juz tt eatin much n puttin weight haha anythin special happened', 'ur cash balance currently 500 pound maximize ur cash send go 86688 150p meg cc 08718720201 hg suite342 2lands row w1j6hl', 'dear u invited xchat final attempt contact u txt chat 86688 150p msgrcvdhg suite342 2lands row w1j6hl ldn 18 yr', 'alright omw gotta change order half8th', 'congratulation ur awarded either yr supply cd virgin record mystery gift guaranteed call 09061104283 t c www smsco net 1 50pm approx 3mins', 'oh k come tomorrow', 'still chance search hard get let try', 'howz person story', 'want come online', 'hi got money da', 'howz person story', 'got take 2 take part wrc rally oz u lucozade energy text rally le 61200 25p see pack lucozade co uk wrc itcould u', 'knock knock txt whose 80082 enter r weekly draw 4 250 gift voucher 4 store yr choice c www tkls com age16 stoptxtstop 1 50 week', 'thesmszone com let send free anonymous masked message im sending message see potential abuse', 'win year supply cd 4 store ur choice worth 500 enter 100 weekly draw txt music 87066 t c www ldew com subs16 1win150ppmx3', 'mobile 10 mths update latest camera video phone free keep ur number get extra free min text text yes call', 'aww must nearly dead well jez iscoming todo workand whilltake forever', 'yeah barely enough room two u x many fucking shoe sorry man see later', 'well keep mind got enough gas one round trip barring sudden influx cash', 'aiyo co sm ü ü neva reply wait 4 ü reply lar tot ü havent finish ur lab wat', 'text carlos let know hang', 'six chance win cash 100 20 000 pound txt csh11 send 87575 cost 150p day 6days 16 tsandcs apply reply hl 4 info', 'sister belongs 2 family hope tomorrow pray 4 fated 4 shoranur train incident let hold hand together amp fuelled love amp concern prior 2 grief amp pain pls join dis chain amp pas stop violence woman', 'say slowly god love amp need clean heart blood send ten special people amp u c miracle tomorrow pls pls', 'think actually talk call bos morning went place last year told could go get car fixed cheaper kept telling today much hoped would come back always regretted getting number etc', 'cheer message zogtorius staring phone age deciding whether text', 'ok thk got u wan 2 come wat', 'sm service inclusive text credit pls goto www comuk net login 3qxj9 unsubscribe stop extra charge help 08702840625 comuk 220 cm2 9ae', 'sorry call later', 'remember ask alex pizza', 'free2day sexy st george day pic jordan txt pic 89080 dont miss every wk saucy celeb 4 pic c pocketbabe co uk 0870241182716 3 wk', 'wife knew time murder exactly', 'u better go sleep dun disturb u liao u wake msg lor', 'want show world princess europe', 'jason say cool pick place like hour', 'promise getting soon text morning let know made ok', '88066 88066 lost 3pound help', 'hey happened u switch ur cell whole day isnt good u care give call tomorrow', 'urgent call 09066350750 landline complimentary 4 ibiza holiday 10 000 cash await collection sae c po box 434 sk3 8wp 150 ppm 18', 'aight see bit', 'went ganesh dress shop', 'ringtone club gr8 new polys direct mobile every week', 'wait till end march el nino get oh', 'hi sexychat girl waiting text text great night chatting send stop stop service', 'think ur smart win 200 week weekly quiz text play 85222 c winnersclub po box 84 m26 3uz 16 gbp1 50 week', 'u subscribed best mobile content service uk 3 per 10 day send stop 82324 helpline 08706091795', 'told going got drunk', 'fun fact although would think armand would eventually build tolerance shit considering much smoke get fucked like 2 hit', 'r u sure understand wine good idea slurp', 'get official england poly ringtone colour flag yer mobile tonight game text tone flag 84199 optout txt eng stop box39822 w111wx 1 50', 'urgent trying contact u today draw show 800 prize guaranteed call 09050003091 land line claim c52 valid12hrs', 'sm ac blind date 4u rodds1 21 aberdeen united kingdom check http img sm ac w icmb3cktz8r7 4 blind date send hide', 'congrats 2 mobile 3g videophones r call 09063458130 videochat wid ur mate play java game dload polyph music noline rentl bx420 ip4 5we 150p', 'please call customer service representative freephone 0808 145 4742 9am 11pm guaranteed 1000 cash 5000 prize', '4mths half price orange line rental latest camera phone 4 free phone 11mths call mobilesdirect free 08000938767 update or2stoptxt', 'serious like proper tongued', 'ü ready call', 'u secret admirer reveal think u r special call 09065174042 opt reply reveal stop 1 50 per msg recd cust care 07821230901', 'eastenders tv quiz flower dot compare violet e tulip f lily txt e f 84025 4 chance 2 win 100 cash wkent 150p16', 'free ringtone waiting collected simply text password mix 85069 verify get usher britney fml po box 5249 mk17 92h 450ppw 16', 'spook mob halloween collection logo pic message plus free eerie tone txt card spook 8007 zed 08701417012150p per logo pic', 'free ring tone text polys 87131 every week get new tone 0870737910216yrs 1 50 wk', 'call 09090900040 listen extreme dirty live chat going office right total privacy one know sic listening 60p min 24 7mp 0870753331018', 'yes princess want make happy', 'still game', 'pain urination thing else', 'online transaction', 'want new video phone 600 anytime network min 400 inclusive video call downloads 5 per week free deltomorrow call 08002888812 reply', 'valentine day special win 1000 quiz take partner trip lifetime send go 83600 150p msg rcvd custcare 08718720201', 'hi petey noi ok wanted 2 chat coz avent spoken 2 u 4 long time hope ur doin alrite good nit j love ya x', 'free msg get gnarl barkley crazy ringtone totally free reply go message right', 'ok', 'pick drop car problem', 'bored speed dating try speedchat txt speedchat 80155 like em txt swap get new chatter chat80155 pobox36504w45wq 150p msg rcd 16', 'guaranteed 32000 award maybe even 1000 cash claim ur award call free 0800 18 legitimat efreefone number wat u think', 'sm ac jsco energy high u may know 2channel 2day ur leadership skill r strong psychic reply an w question end reply end jsco', 'urgent trying contact u today draw show 800 prize guaranteed call 09050000460 land line claim j89 po box245c2150pm', 'fine absolutly fine', 'yup finished c ü', 'double min txts 4 6months free bluetooth orange available sony nokia motorola phone call mobileupd8 08000839402 call2optout n9dx', 'home ard wat time u reach', '1 cbe 2 chennai', 'studying free next weekend', 'ur cash balance currently 500 pound maximize ur cash send go 86688 150p msg cc 08718720201 hg suite342 2lands row w1j6hl', 'hello orange 1 month free access game news sport plus 10 free text 20 photo message reply yes term apply www orange co uk ow', 'still chance search hard get let try', 'urgent call 09066649731from landline complimentary 4 ibiza holiday 10 000 cash await collection sae c po box 434 sk3 8wp 150ppm 18', 'enjoy jamster videosound gold club credit 2 new videosounds 2 logo musicnews get fun jamster co uk 16 help call 09701213186', 'get gift year didnt get anything bad', 'pls give prometazine syrup 5mls lt gt min later feed', '8 latest g still scrounge ammo want give new ak try', 'work please call', 'next amazing xxx picsfree1 video sent enjoy one vid enough 2day text back keyword picsfree1 get next video', 'free 1st week no1 nokia tone 4 ur mob every week txt nokia 8007 get txting tell ur mate www getzed co uk pobox 36504 w45wq norm150p tone 16', 'ok ill tell company', 'freemsg txt call 86888 claim reward 3 hour talk time use phone subscribe6gbp mnth inc 3hrs 16 stop txtstop', 'one slice one breadstick lol', 'quite know still get hold anyone cud pick bout 7 30pm see pub', 'lyricalladie 21 f inviting friend reply yes 910 910 see www sm ac u hmmross stop send stop frnd 62468', 'one talking', 'thanx 4 sending home', 'mystery solved opened email sent another batch sweetie', 'ducking chinchilla', 'drug able eat', 'private 2003 account statement show 800 un redeemed point call 08718738002 identifier code 48922 expires 21 11 04', 'oops let know roommate done', 'yes one woman man please tell like dislike bed', 'jokin lar depends phone father get lor', '1 new message please call 08715205273', 'link picture sent also use http alto18 co uk wave wave asp 44345', 'hope feeling great pls fill abiola', 'hot n horny willing live local text reply hear strt back 150p per msg netcollex ltdhelpdesk 02085076972 reply stop end', 'r u yet wearing blue shirt n black pant', 'battery mr adewale uncle aka egbon', 'ur chance win 250 cash every wk txt play 83370 c www music trivia net custcare 08715705022 1x150p wk', 'real u getting yo need 2 ticket one jacket done already used multis', 'realize 40 year thousand old lady running around tattoo', 'wherre boytoy', 'important customer service announcement premier call freephone 0800 542 0578', 'send bec temple na', 'please call 08712402779 immediately urgent message waiting', 'private 2004 account statement 07742676969 show 786 unredeemed bonus point claim call 08719180248 identifier code 45239 expires', 'yup izzit still raining heavily co e mrt c outside', 'hey sexy bun told adore loverboy hope remember thank sister law meatball grin love babe', 'free entry 250 weekly comp send word win 80086 18 c www txttowin co uk', 'natalja 25 f inviting friend reply yes 440 440 see www sm ac u nat27081980 stop send stop frnd 62468', 'mark work tomorrow get 5 work house meet u afterwards', 'answerin phone actually pretty reasonable hour sleepy', 'finished work yet something', 'reached home n bathe liao u call', 'ur chance win 250 wkly shopping spree txt shop 80878 c www txt 2 shop com custcare 08715705022 1x150p wk', 'nope thats fine might nap tho', 'best line said love wait till day forget u day u realize u cannot forget gn', 'want explicit sex 30 sec ring 02073162414 cost 20p min gsex pobox 2667 wc1n 3xx', 'heard u4 call night knickers make beg like u last time 01223585236 xx luv nikiyu4 net', 'havent planning buy later check already lido got 530 show e afternoon u finish work already', 'error', 'ü home work meh', 'mean come chase stated watch many movie want', 'interflora late order interflora flower christmas call 0800 505060 place order midnight tomorrow', 'review keep fantastic nokia n gage game deck club nokia go 2 www cnupdates com newsletter unsubscribe alert reply word', 'sent maga money yesterday oh', 'drinkin ok', 'nothing', '2nd time tried 2 contact u u 750 pound prize 2 claim easy call 08712101358 10p per min bt national rate', 'sometimes put wall around heart safe getting hurt find care enough break wall amp get closer goodnoon', 'freemsg claim ur 250 sm message text ok 84025 use web2mobile 2 ur mate etc join txt250 com 1 50p wk c box139 la32wu 16 remove txtx stop', 'oh charge camera', 'guaranteed latest nokia phone 40gb ipod mp3 player 500 prize txt word collect 83355 ibhltd ldnw15h 150p mtmsgrcvd18', 'get home', 'wan2 win meet greet westlife 4 u m8 currently tour 1 unbreakable 2 untamed 3 unkempt text 1 2 3 83049 cost 50p std text', 'selected stay 1 250 top british hotel nothing holiday worth 350 claim call london 02072069400 bx 526 sw73ss', 'thank winner notified sm good luck future marketing reply stop 84122 customer service 08450542832', 'u meet ur dream partner soon ur career 2 flyng start 2 find free txt horo followed ur star sign e g horo aries', 'ok come ur home half hour', 'complimentary 4 star ibiza holiday 10 000 cash need urgent collection 09066364349 landline lose box434sk38wp150ppm18', 'private 2003 account statement 07815296484 show 800 un redeemed point call 08718738001 identifier code 41782 expires 18 11 04', 'freemsg awarded free mini digital camera reply snap collect prize quizclub opt stop 80122300p wk sp rwm ph 08704050406', 'pure hearted person wonderful smile make even enemy feel guilty enemy catch world smile goodmorning amp smiley sunday', 'u secret admirer looking 2 make contact u find r reveal think ur special call 09065171142 stopsms 08', 'freemsg hey darling 3 week word back like fun still tb ok xxx std chgs send 1 50 rcv', 'u wan 2 come dinner tonight', 'queen going royal wedding', 'contacted dating service someone know find call mobile landline 09064017305 pobox75ldns7', 'promotion number 8714714 ur awarded city break could win 200 summer shopping spree every wk txt store 88039 skilgme tscs087147403231winawk age16 1 50perwksub', 'urgent mobile number awarded 2000 prize guaranteed call 09058094455 land line claim 3030 valid 12hrs', 'boy best get yo as quick', 'call freephone 0800 542 0578', 'hey happy birthday', 'oh sorry please', 'urgent please call 09061213237 landline 5000 cash luxury 4 canary island holiday await collection c sae po box 177 m227xy 150ppm 16', 'hello darling today would love chat dont tell look like sexy', 'ripped get mobile content www clubmoby com call 08717509990 poly true pix ringtones game six downloads 3', 'pls need dat slowly vomit', 'know u u know send chat 86688 let find 150p msg rcvd hg suite342 2lands row w1j6hl ldn 18 year', 'sorry call later', 'well glad find totally disagreeable lol', 'actually send reminder today wonderful weekend', 'usual u call ard 10 smth', 'could seen recognise face', 'hey gal u wanna meet 4 dinner nìte', 'urgent trying contact u today draw show 800 prize guaranteed call 09050003091 land line claim c52 valid 12hrs', 'thanks vote sing along star karaoke mobile free link reply sing', 'themob check newest selection content game tone gossip babe sport keep mobile fit funky text wap 82468', 'deep sigh miss really surprised gone net cafe yet get miss', 'omg one thing another cat worm bad day end', 'okie scared u say fat u dun wan already', 'check room befor activity', 'yeah go bored depressed sittin waitin phone ring hope wind drop though scary', 'urgent mobile awarded 1 500 bonus caller prize 27 6 03 final attempt 2 contact u call 08714714011', '8007 25p 4 alfie moon child need song ur mob tell ur m8s txt tone charity 8007 nokias poly charity polys zed 08701417012 profit 2 charity', 'total disappointment texted craziest shit got', 'saw ron burgundy captaining party boat yeah', 'lookatme thanks purchase video clip lookatme charged 35p think better send video mmsto 32323', 'urgent mobile number awarded 2000 bonus caller prize call 09058095201 land line valid 12hrs', 'dad gonna call get work ask crazy question', 'free video camera phone half price line rental 12 mths 500 cross ntwk min 100 txts call mobileupd8 08001950382 call2optout 674', 'prize go another customer c www c biz 18 150p min polo ltd suite 373 london w1j 6hl please call back busy', 'wan2 win meet greet westlife 4 u m8 currently tour 1 unbreakable 2 untamed 3 unkempt text 1 2 3 83049 cost 50p std text', 'mobile 11mths update free orange latest colour camera mobile unlimited weekend call call mobile upd8 freefone 08000839402 2stoptx', 'da al r lt gt', 'money wining number 946 wot next', 'uncle g checking rewarding month', 'free 1st week entry 2 textpod 4 chance 2 win 40gb ipod 250 cash every wk txt vpod 81303 t c www textpod net custcare 08712405020', 'b floppy b snappy happy gay chat service photo upload call 08718730666 10p min 2 stop text call 08712460324', 'tried contact reply offer video handset 750 anytime network min unlimited text camcorder reply call 08000930705', 'phony 350 award today voda number ending xxxx selected receive 350 award match please call 08712300220 quoting claim code 3100 standard rate app', 'well done england get official poly ringtone colour flag yer mobile text tone flag 84199 opt txt eng stop box39822 w111wx 1 50', 'yes small kid boost secret energy', 'actually decided hungry left yet v', 'called said choose future', 'hope ur head hurt 2 much ploughing way pile ironing staying chinky tonight come round like', 'erm ill pick 6 45pm give enough time get park', 'well done 4 costa del sol holiday 5000 await collection call 09050090044 toclaim sae tc pobox334 stockport sk38xh cost 1 50 pm max10mins', 'important message final contact attempt important message waiting customer claim dept expires 13 4 04 call 08717507382', 'believe true incredible txts reply g learn truly amazing thing blow mind o2fwd 18p txt', 'prize go another customer c www c biz 18 150p min polo ltd suite 373 london w1j 6hl please call back busy', 'shore takin bus', 'much ur hdd casing cost', 'sorry missed call let talk time 07090201529']\n"
     ]
    }
   ],
   "source": [
    "print(my_corpus)"
   ]
  },
  {
   "cell_type": "markdown",
   "metadata": {
    "id": "RxLTR_X5STB7"
   },
   "source": [
    "##Building + Evaluating a model"
   ]
  },
  {
   "cell_type": "code",
   "execution_count": 29,
   "metadata": {
    "colab": {
     "base_uri": "https://localhost:8080/"
    },
    "id": "zQpcc15sKwI2",
    "outputId": "b9757f4b-a8d5-40e5-a006-1a21dfc47e0f"
   },
   "outputs": [
    {
     "data": {
      "text/plain": [
       "['CountVectorizer']"
      ]
     },
     "execution_count": 29,
     "metadata": {},
     "output_type": "execute_result"
    }
   ],
   "source": [
    "from sklearn.feature_extraction.text import CountVectorizer\n",
    "import joblib\n",
    "cv = CountVectorizer()\n",
    "X = cv.fit_transform(my_corpus).toarray()\n",
    "y = df_balanced.iloc[:, -1].values\n",
    "joblib.dump(cv, 'CountVectorizer')"
   ]
  },
  {
   "cell_type": "code",
   "execution_count": 30,
   "metadata": {
    "id": "Sv0qgI9qOVIb"
   },
   "outputs": [],
   "source": [
    "from sklearn.model_selection import train_test_split\n",
    "X_train, X_test, y_train, y_test = train_test_split(X, y, test_size = 0.20, random_state = 0, stratify=y)"
   ]
  },
  {
   "cell_type": "code",
   "execution_count": 31,
   "metadata": {
    "colab": {
     "base_uri": "https://localhost:8080/"
    },
    "id": "MRspW5nCOYb_",
    "outputId": "96b9b4a1-229e-4de7-f371-6ffe8d1b00b1"
   },
   "outputs": [
    {
     "data": {
      "text/plain": [
       "['Gaussina_Classifier']"
      ]
     },
     "execution_count": 31,
     "metadata": {},
     "output_type": "execute_result"
    }
   ],
   "source": [
    "from sklearn.naive_bayes import GaussianNB\n",
    "classifier = GaussianNB()\n",
    "classifier.fit(X_train, y_train)\n",
    "joblib.dump(classifier, 'Gaussina_Classifier')"
   ]
  },
  {
   "cell_type": "code",
   "execution_count": 32,
   "metadata": {
    "id": "89Bp88kCOaTz"
   },
   "outputs": [],
   "source": [
    "y_pred = classifier.predict(X_test)"
   ]
  },
  {
   "cell_type": "code",
   "execution_count": 33,
   "metadata": {
    "colab": {
     "base_uri": "https://localhost:8080/"
    },
    "id": "lwmYOc2hOc7G",
    "outputId": "007c3134-c56b-4883-eb55-ec9506fd294f"
   },
   "outputs": [
    {
     "name": "stdout",
     "output_type": "stream",
     "text": [
      "[[145   5]\n",
      " [  9 140]]\n"
     ]
    },
    {
     "data": {
      "text/plain": [
       "0.9531772575250836"
      ]
     },
     "execution_count": 33,
     "metadata": {},
     "output_type": "execute_result"
    }
   ],
   "source": [
    "from sklearn.metrics import confusion_matrix, accuracy_score\n",
    "cm = confusion_matrix(y_test, y_pred)\n",
    "print(cm)\n",
    "accuracy_score(y_test, y_pred)"
   ]
  },
  {
   "cell_type": "code",
   "execution_count": 34,
   "metadata": {
    "id": "PVAUHgUeYd9P"
   },
   "outputs": [],
   "source": [
    "reviews = [\n",
    "    'Enter a chance to win $5000, hurry up, offer valid until march 31, 2021',\n",
    "    'You are awarded a SiPix Digital Camera! call 09061221061 from landline. Delivery within 28days. T Cs Box177. M221BP. 2yr warranty. 150ppm. 16 . p pÂ£3.99',\n",
    "    'it to 80488. Your 500 free text messages are valid until 31 December 2005.',\n",
    "    'Hey Sam, Are you coming for a cricket game tomorrow',\n",
    "    \"Why don't you wait 'til at least wednesday to see if you get your .\",\n",
    "    \"I will not be available for today.\"\n",
    "    ]"
   ]
  },
  {
   "cell_type": "code",
   "execution_count": 35,
   "metadata": {
    "colab": {
     "base_uri": "https://localhost:8080/"
    },
    "id": "jnGnYPSlojFZ",
    "outputId": "fd43e852-8a29-4a19-c0bc-00a45efb5211"
   },
   "outputs": [
    {
     "name": "stdout",
     "output_type": "stream",
     "text": [
      "[1 1 1 0 0 0]\n"
     ]
    }
   ],
   "source": [
    "CV = joblib.load('CountVectorizer')\n",
    "X_to_be_predicted = CV.transform(reviews).toarray()\n",
    "y_predicted = classifier.predict(X_to_be_predicted)\n",
    "print(y_predicted)"
   ]
  },
  {
   "cell_type": "markdown",
   "metadata": {
    "id": "6W-VRurZSl-V"
   },
   "source": [
    "##Trainig using an ANN"
   ]
  },
  {
   "cell_type": "code",
   "execution_count": 36,
   "metadata": {
    "id": "9-LiNCJTPPpQ"
   },
   "outputs": [],
   "source": [
    "import tensorflow as tf"
   ]
  },
  {
   "cell_type": "code",
   "execution_count": 37,
   "metadata": {
    "colab": {
     "base_uri": "https://localhost:8080/"
    },
    "id": "6tAqVnfJS1gt",
    "outputId": "824c692a-a7e3-4f93-ee29-2db6061dacda"
   },
   "outputs": [
    {
     "name": "stdout",
     "output_type": "stream",
     "text": [
      "(298, 4249) (298,)\n"
     ]
    }
   ],
   "source": [
    "from sklearn.model_selection import train_test_split\n",
    "import numpy as np\n",
    "X_train, X_rem, y_train, y_rem = train_test_split(X, y, train_size = 0.80, random_state = 0, stratify=y)\n",
    "X_rem = np.delete(X_rem, 1, 0)\n",
    "y_rem = np.delete(y_rem, 1, 0)\n",
    "print(X_rem.shape, y_rem.shape)\n",
    "X_test, X_valid, y_test, y_valid = train_test_split(X_rem, y_rem, train_size = 0.50, random_state = 0, stratify=y_rem)"
   ]
  },
  {
   "cell_type": "code",
   "execution_count": 38,
   "metadata": {
    "id": "wTFFRx1pPU7M"
   },
   "outputs": [
    {
     "name": "stdout",
     "output_type": "stream",
     "text": [
      "Metal device set to: Apple M1\n"
     ]
    },
    {
     "name": "stderr",
     "output_type": "stream",
     "text": [
      "2021-11-07 13:10:24.753343: I tensorflow/core/common_runtime/pluggable_device/pluggable_device_factory.cc:305] Could not identify NUMA node of platform GPU ID 0, defaulting to 0. Your kernel may not have been built with NUMA support.\n",
      "2021-11-07 13:10:24.753502: I tensorflow/core/common_runtime/pluggable_device/pluggable_device_factory.cc:271] Created TensorFlow device (/job:localhost/replica:0/task:0/device:GPU:0 with 0 MB memory) -> physical PluggableDevice (device: 0, name: METAL, pci bus id: <undefined>)\n"
     ]
    }
   ],
   "source": [
    "model_ann = tf.keras.Sequential()\n",
    "model_ann.add(tf.keras.layers.Dense(256, activation='relu'))\n",
    "model_ann.add(tf.keras.layers.Dense(128, activation='relu'))\n",
    "model_ann.add(tf.keras.layers.Dense(64, activation='relu'))\n",
    "model_ann.add(tf.keras.layers.Dropout(0.2))\n",
    "model_ann.add(tf.keras.layers.Dense(1, activation='sigmoid'))"
   ]
  },
  {
   "cell_type": "code",
   "execution_count": 39,
   "metadata": {
    "id": "MnWuuLHNQnjj"
   },
   "outputs": [],
   "source": [
    "model_ann.compile(optimizer = 'adam', loss = 'binary_crossentropy', metrics = ['accuracy'])"
   ]
  },
  {
   "cell_type": "code",
   "execution_count": 40,
   "metadata": {
    "colab": {
     "base_uri": "https://localhost:8080/"
    },
    "id": "0wiZ_sNLQsoF",
    "outputId": "787e2f43-7484-4b41-8125-a76821276f85"
   },
   "outputs": [
    {
     "name": "stderr",
     "output_type": "stream",
     "text": [
      "2021-11-07 13:10:28.353984: I tensorflow/compiler/mlir/mlir_graph_optimization_pass.cc:185] None of the MLIR Optimization Passes are enabled (registered 2)\n",
      "2021-11-07 13:10:28.354635: W tensorflow/core/platform/profile_utils/cpu_utils.cc:128] Failed to get CPU frequency: 0 Hz\n"
     ]
    },
    {
     "name": "stdout",
     "output_type": "stream",
     "text": [
      "Epoch 1/10\n"
     ]
    },
    {
     "name": "stderr",
     "output_type": "stream",
     "text": [
      "2021-11-07 13:10:28.712792: I tensorflow/core/grappler/optimizers/custom_graph_optimizer_registry.cc:112] Plugin optimizer for device_type GPU is enabled.\n"
     ]
    },
    {
     "name": "stdout",
     "output_type": "stream",
     "text": [
      "38/38 [==============================] - 2s 12ms/step - loss: 0.4479 - accuracy: 0.7724 - val_loss: 0.1392 - val_accuracy: 0.9530\n",
      "Epoch 2/10\n",
      "16/38 [===========>..................] - ETA: 0s - loss: 0.0718 - accuracy: 0.9805"
     ]
    },
    {
     "name": "stderr",
     "output_type": "stream",
     "text": [
      "2021-11-07 13:10:29.904525: I tensorflow/core/grappler/optimizers/custom_graph_optimizer_registry.cc:112] Plugin optimizer for device_type GPU is enabled.\n"
     ]
    },
    {
     "name": "stdout",
     "output_type": "stream",
     "text": [
      "38/38 [==============================] - 0s 8ms/step - loss: 0.0503 - accuracy: 0.9874 - val_loss: 0.1018 - val_accuracy: 0.9732\n",
      "Epoch 3/10\n",
      "38/38 [==============================] - 0s 7ms/step - loss: 0.0044 - accuracy: 0.9983 - val_loss: 0.1006 - val_accuracy: 0.9799\n",
      "Epoch 4/10\n",
      "38/38 [==============================] - 0s 7ms/step - loss: 0.0015 - accuracy: 1.0000 - val_loss: 0.1125 - val_accuracy: 0.9799\n",
      "Epoch 5/10\n",
      "38/38 [==============================] - 0s 8ms/step - loss: 7.3098e-04 - accuracy: 1.0000 - val_loss: 0.1356 - val_accuracy: 0.9664\n",
      "Epoch 6/10\n",
      "38/38 [==============================] - 0s 8ms/step - loss: 4.3372e-04 - accuracy: 1.0000 - val_loss: 0.1420 - val_accuracy: 0.9664\n",
      "Epoch 7/10\n",
      "38/38 [==============================] - 0s 8ms/step - loss: 3.1058e-04 - accuracy: 1.0000 - val_loss: 0.1496 - val_accuracy: 0.9664\n",
      "Epoch 8/10\n",
      "38/38 [==============================] - 0s 8ms/step - loss: 2.6338e-04 - accuracy: 1.0000 - val_loss: 0.1557 - val_accuracy: 0.9664\n",
      "Epoch 9/10\n",
      "38/38 [==============================] - 0s 7ms/step - loss: 2.1009e-04 - accuracy: 1.0000 - val_loss: 0.1579 - val_accuracy: 0.9664\n",
      "Epoch 10/10\n",
      "38/38 [==============================] - 0s 8ms/step - loss: 1.3352e-04 - accuracy: 1.0000 - val_loss: 0.1658 - val_accuracy: 0.9664\n"
     ]
    },
    {
     "data": {
      "text/plain": [
       "<keras.callbacks.History at 0x297038220>"
      ]
     },
     "execution_count": 40,
     "metadata": {},
     "output_type": "execute_result"
    }
   ],
   "source": [
    "model_ann.fit(X_train, y_train, validation_data=(X_valid, y_valid), batch_size = 32, epochs = 10)"
   ]
  },
  {
   "cell_type": "code",
   "execution_count": 41,
   "metadata": {
    "id": "5-ThgX4MQx2G"
   },
   "outputs": [
    {
     "name": "stderr",
     "output_type": "stream",
     "text": [
      "2021-11-07 13:10:35.269193: I tensorflow/core/grappler/optimizers/custom_graph_optimizer_registry.cc:112] Plugin optimizer for device_type GPU is enabled.\n"
     ]
    }
   ],
   "source": [
    "y_pred = model_ann.predict(X_test)\n",
    "y_pred = np.where(y_pred > 0.5, 1, 0)"
   ]
  },
  {
   "cell_type": "code",
   "execution_count": 42,
   "metadata": {
    "colab": {
     "base_uri": "https://localhost:8080/"
    },
    "id": "7_0nxwEJRAw-",
    "outputId": "5e2f7a6b-c2e0-4ed8-ef11-f09bf10800d0"
   },
   "outputs": [
    {
     "name": "stdout",
     "output_type": "stream",
     "text": [
      "[[72  3]\n",
      " [ 6 68]]\n"
     ]
    },
    {
     "data": {
      "text/plain": [
       "0.9395973154362416"
      ]
     },
     "execution_count": 42,
     "metadata": {},
     "output_type": "execute_result"
    }
   ],
   "source": [
    "from sklearn.metrics import confusion_matrix, accuracy_score\n",
    "cm = confusion_matrix(y_test, y_pred)\n",
    "print(cm)\n",
    "accuracy_score(y_test, y_pred)"
   ]
  },
  {
   "cell_type": "code",
   "execution_count": 4,
   "metadata": {
    "id": "58_pHi_XR37-"
   },
   "outputs": [],
   "source": [
    "reviews = [\n",
    "    'Enter a chance to win $5000, hurry up, offer valid until march 31, 2021',\n",
    "    'You are awarded a SiPix Digital Camera! call 09061221061 from landline. Delivery within 28days. T Cs Box177. M221BP. 2yr warranty. 150ppm. 16 . p pÂ£3.99',\n",
    "    'it to 80488. Your 500 free text messages are valid until 31 December 2005.',\n",
    "    'Hey Sam, Are you coming for a cricket game tomorrow',\n",
    "    \"Why don't you wait 'til at least wednesday to see if you get your .\",\n",
    "    \"I will not be available for today.\"\n",
    "    ]\n"
   ]
  },
  {
   "cell_type": "code",
   "execution_count": 5,
   "metadata": {
    "colab": {
     "base_uri": "https://localhost:8080/"
    },
    "id": "PAJhlBJjOCiL",
    "outputId": "a711bd57-1799-4827-e91c-fef5f4de00a3"
   },
   "outputs": [
    {
     "name": "stderr",
     "output_type": "stream",
     "text": [
      "2021-11-07 13:27:40.060935: I tensorflow/core/grappler/optimizers/custom_graph_optimizer_registry.cc:112] Plugin optimizer for device_type GPU is enabled.\n"
     ]
    },
    {
     "name": "stdout",
     "output_type": "stream",
     "text": [
      "[[1]]\n"
     ]
    }
   ],
   "source": [
    "import joblib\n",
    "import tensorflow as tf\n",
    "import numpy as np\n",
    "def get_prediction(reviews):\n",
    "  CV = joblib.load('CountVectorizer')\n",
    "  model_ann = tf.keras.models.load_model('ann_classifier.h5')\n",
    "  X_to_be_predicted = CV.transform(reviews).toarray()\n",
    "  y_predicted = model_ann.predict(X_to_be_predicted)\n",
    "  y_predicted = np.where(y_predicted > 0.5, 1, 0)\n",
    "  return y_predicted\n",
    "\n",
    "result = get_prediction(reviews)\n",
    "print(result)"
   ]
  },
  {
   "cell_type": "code",
   "execution_count": 46,
   "metadata": {
    "id": "NH6PP5DNOsU8"
   },
   "outputs": [],
   "source": [
    "model_ann.save('ann_classifier.h5')"
   ]
  }
 ],
 "metadata": {
  "colab": {
   "name": "Email_Classification-From_Scratch.ipynb",
   "provenance": []
  },
  "kernelspec": {
   "display_name": "Python 3 (ipykernel)",
   "language": "python",
   "name": "python3"
  },
  "language_info": {
   "codemirror_mode": {
    "name": "ipython",
    "version": 3
   },
   "file_extension": ".py",
   "mimetype": "text/x-python",
   "name": "python",
   "nbconvert_exporter": "python",
   "pygments_lexer": "ipython3",
   "version": "3.9.7"
  }
 },
 "nbformat": 4,
 "nbformat_minor": 1
}
