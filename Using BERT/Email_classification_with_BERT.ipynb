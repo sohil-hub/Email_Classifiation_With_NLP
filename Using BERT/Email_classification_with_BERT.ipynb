{
  "nbformat": 4,
  "nbformat_minor": 0,
  "metadata": {
    "colab": {
      "name": "Email_classification_with_BERT.ipynb",
      "provenance": [],
      "collapsed_sections": [
        "Iq_A7_L-Fhc2",
        "3ArXjPbSViu3",
        "vNyiA32zVqAE",
        "KpaM_AAoVwOs",
        "3fkR9PHJFeVG",
        "cRU726YOSG_d",
        "swzoXGMwSN1d",
        "RxLTR_X5STB7",
        "6W-VRurZSl-V"
      ]
    },
    "kernelspec": {
      "name": "python3",
      "display_name": "Python 3"
    },
    "language_info": {
      "name": "python"
    },
    "accelerator": "GPU"
  },
  "cells": [
    {
      "cell_type": "markdown",
      "metadata": {
        "id": "Iq_A7_L-Fhc2"
      },
      "source": [
        "#Using BERT"
      ]
    },
    {
      "cell_type": "markdown",
      "metadata": {
        "id": "3ArXjPbSViu3"
      },
      "source": [
        "##importing libraries"
      ]
    },
    {
      "cell_type": "code",
      "metadata": {
        "colab": {
          "base_uri": "https://localhost:8080/"
        },
        "id": "o2e0_b80IdWJ",
        "outputId": "426a5391-d287-40dd-837a-fbc487f909da"
      },
      "source": [
        "!pip install tensorflow_text\n",
        "import tensorflow as tf\n",
        "import tensorflow_hub as hub\n",
        "import tensorflow_text as text"
      ],
      "execution_count": 1,
      "outputs": [
        {
          "output_type": "stream",
          "name": "stdout",
          "text": [
            "Collecting tensorflow_text\n",
            "  Downloading tensorflow_text-2.6.0-cp37-cp37m-manylinux1_x86_64.whl (4.4 MB)\n",
            "\u001b[K     |████████████████████████████████| 4.4 MB 5.3 MB/s \n",
            "\u001b[?25hRequirement already satisfied: tensorflow<2.7,>=2.6.0 in /usr/local/lib/python3.7/dist-packages (from tensorflow_text) (2.6.0)\n",
            "Requirement already satisfied: tensorflow-hub>=0.8.0 in /usr/local/lib/python3.7/dist-packages (from tensorflow_text) (0.12.0)\n",
            "Requirement already satisfied: google-pasta~=0.2 in /usr/local/lib/python3.7/dist-packages (from tensorflow<2.7,>=2.6.0->tensorflow_text) (0.2.0)\n",
            "Requirement already satisfied: termcolor~=1.1.0 in /usr/local/lib/python3.7/dist-packages (from tensorflow<2.7,>=2.6.0->tensorflow_text) (1.1.0)\n",
            "Requirement already satisfied: wrapt~=1.12.1 in /usr/local/lib/python3.7/dist-packages (from tensorflow<2.7,>=2.6.0->tensorflow_text) (1.12.1)\n",
            "Requirement already satisfied: h5py~=3.1.0 in /usr/local/lib/python3.7/dist-packages (from tensorflow<2.7,>=2.6.0->tensorflow_text) (3.1.0)\n",
            "Requirement already satisfied: tensorflow-estimator~=2.6 in /usr/local/lib/python3.7/dist-packages (from tensorflow<2.7,>=2.6.0->tensorflow_text) (2.6.0)\n",
            "Requirement already satisfied: keras-preprocessing~=1.1.2 in /usr/local/lib/python3.7/dist-packages (from tensorflow<2.7,>=2.6.0->tensorflow_text) (1.1.2)\n",
            "Requirement already satisfied: numpy~=1.19.2 in /usr/local/lib/python3.7/dist-packages (from tensorflow<2.7,>=2.6.0->tensorflow_text) (1.19.5)\n",
            "Requirement already satisfied: protobuf>=3.9.2 in /usr/local/lib/python3.7/dist-packages (from tensorflow<2.7,>=2.6.0->tensorflow_text) (3.17.3)\n",
            "Requirement already satisfied: opt-einsum~=3.3.0 in /usr/local/lib/python3.7/dist-packages (from tensorflow<2.7,>=2.6.0->tensorflow_text) (3.3.0)\n",
            "Requirement already satisfied: astunparse~=1.6.3 in /usr/local/lib/python3.7/dist-packages (from tensorflow<2.7,>=2.6.0->tensorflow_text) (1.6.3)\n",
            "Requirement already satisfied: flatbuffers~=1.12.0 in /usr/local/lib/python3.7/dist-packages (from tensorflow<2.7,>=2.6.0->tensorflow_text) (1.12)\n",
            "Requirement already satisfied: clang~=5.0 in /usr/local/lib/python3.7/dist-packages (from tensorflow<2.7,>=2.6.0->tensorflow_text) (5.0)\n",
            "Requirement already satisfied: grpcio<2.0,>=1.37.0 in /usr/local/lib/python3.7/dist-packages (from tensorflow<2.7,>=2.6.0->tensorflow_text) (1.41.0)\n",
            "Requirement already satisfied: six~=1.15.0 in /usr/local/lib/python3.7/dist-packages (from tensorflow<2.7,>=2.6.0->tensorflow_text) (1.15.0)\n",
            "Requirement already satisfied: keras~=2.6 in /usr/local/lib/python3.7/dist-packages (from tensorflow<2.7,>=2.6.0->tensorflow_text) (2.6.0)\n",
            "Requirement already satisfied: typing-extensions~=3.7.4 in /usr/local/lib/python3.7/dist-packages (from tensorflow<2.7,>=2.6.0->tensorflow_text) (3.7.4.3)\n",
            "Requirement already satisfied: wheel~=0.35 in /usr/local/lib/python3.7/dist-packages (from tensorflow<2.7,>=2.6.0->tensorflow_text) (0.37.0)\n",
            "Requirement already satisfied: gast==0.4.0 in /usr/local/lib/python3.7/dist-packages (from tensorflow<2.7,>=2.6.0->tensorflow_text) (0.4.0)\n",
            "Requirement already satisfied: tensorboard~=2.6 in /usr/local/lib/python3.7/dist-packages (from tensorflow<2.7,>=2.6.0->tensorflow_text) (2.6.0)\n",
            "Requirement already satisfied: absl-py~=0.10 in /usr/local/lib/python3.7/dist-packages (from tensorflow<2.7,>=2.6.0->tensorflow_text) (0.12.0)\n",
            "Requirement already satisfied: cached-property in /usr/local/lib/python3.7/dist-packages (from h5py~=3.1.0->tensorflow<2.7,>=2.6.0->tensorflow_text) (1.5.2)\n",
            "Requirement already satisfied: google-auth<2,>=1.6.3 in /usr/local/lib/python3.7/dist-packages (from tensorboard~=2.6->tensorflow<2.7,>=2.6.0->tensorflow_text) (1.35.0)\n",
            "Requirement already satisfied: requests<3,>=2.21.0 in /usr/local/lib/python3.7/dist-packages (from tensorboard~=2.6->tensorflow<2.7,>=2.6.0->tensorflow_text) (2.23.0)\n",
            "Requirement already satisfied: tensorboard-plugin-wit>=1.6.0 in /usr/local/lib/python3.7/dist-packages (from tensorboard~=2.6->tensorflow<2.7,>=2.6.0->tensorflow_text) (1.8.0)\n",
            "Requirement already satisfied: markdown>=2.6.8 in /usr/local/lib/python3.7/dist-packages (from tensorboard~=2.6->tensorflow<2.7,>=2.6.0->tensorflow_text) (3.3.4)\n",
            "Requirement already satisfied: tensorboard-data-server<0.7.0,>=0.6.0 in /usr/local/lib/python3.7/dist-packages (from tensorboard~=2.6->tensorflow<2.7,>=2.6.0->tensorflow_text) (0.6.1)\n",
            "Requirement already satisfied: werkzeug>=0.11.15 in /usr/local/lib/python3.7/dist-packages (from tensorboard~=2.6->tensorflow<2.7,>=2.6.0->tensorflow_text) (1.0.1)\n",
            "Requirement already satisfied: google-auth-oauthlib<0.5,>=0.4.1 in /usr/local/lib/python3.7/dist-packages (from tensorboard~=2.6->tensorflow<2.7,>=2.6.0->tensorflow_text) (0.4.6)\n",
            "Requirement already satisfied: setuptools>=41.0.0 in /usr/local/lib/python3.7/dist-packages (from tensorboard~=2.6->tensorflow<2.7,>=2.6.0->tensorflow_text) (57.4.0)\n",
            "Requirement already satisfied: rsa<5,>=3.1.4 in /usr/local/lib/python3.7/dist-packages (from google-auth<2,>=1.6.3->tensorboard~=2.6->tensorflow<2.7,>=2.6.0->tensorflow_text) (4.7.2)\n",
            "Requirement already satisfied: pyasn1-modules>=0.2.1 in /usr/local/lib/python3.7/dist-packages (from google-auth<2,>=1.6.3->tensorboard~=2.6->tensorflow<2.7,>=2.6.0->tensorflow_text) (0.2.8)\n",
            "Requirement already satisfied: cachetools<5.0,>=2.0.0 in /usr/local/lib/python3.7/dist-packages (from google-auth<2,>=1.6.3->tensorboard~=2.6->tensorflow<2.7,>=2.6.0->tensorflow_text) (4.2.4)\n",
            "Requirement already satisfied: requests-oauthlib>=0.7.0 in /usr/local/lib/python3.7/dist-packages (from google-auth-oauthlib<0.5,>=0.4.1->tensorboard~=2.6->tensorflow<2.7,>=2.6.0->tensorflow_text) (1.3.0)\n",
            "Requirement already satisfied: importlib-metadata in /usr/local/lib/python3.7/dist-packages (from markdown>=2.6.8->tensorboard~=2.6->tensorflow<2.7,>=2.6.0->tensorflow_text) (4.8.1)\n",
            "Requirement already satisfied: pyasn1<0.5.0,>=0.4.6 in /usr/local/lib/python3.7/dist-packages (from pyasn1-modules>=0.2.1->google-auth<2,>=1.6.3->tensorboard~=2.6->tensorflow<2.7,>=2.6.0->tensorflow_text) (0.4.8)\n",
            "Requirement already satisfied: urllib3!=1.25.0,!=1.25.1,<1.26,>=1.21.1 in /usr/local/lib/python3.7/dist-packages (from requests<3,>=2.21.0->tensorboard~=2.6->tensorflow<2.7,>=2.6.0->tensorflow_text) (1.24.3)\n",
            "Requirement already satisfied: certifi>=2017.4.17 in /usr/local/lib/python3.7/dist-packages (from requests<3,>=2.21.0->tensorboard~=2.6->tensorflow<2.7,>=2.6.0->tensorflow_text) (2021.5.30)\n",
            "Requirement already satisfied: chardet<4,>=3.0.2 in /usr/local/lib/python3.7/dist-packages (from requests<3,>=2.21.0->tensorboard~=2.6->tensorflow<2.7,>=2.6.0->tensorflow_text) (3.0.4)\n",
            "Requirement already satisfied: idna<3,>=2.5 in /usr/local/lib/python3.7/dist-packages (from requests<3,>=2.21.0->tensorboard~=2.6->tensorflow<2.7,>=2.6.0->tensorflow_text) (2.10)\n",
            "Requirement already satisfied: oauthlib>=3.0.0 in /usr/local/lib/python3.7/dist-packages (from requests-oauthlib>=0.7.0->google-auth-oauthlib<0.5,>=0.4.1->tensorboard~=2.6->tensorflow<2.7,>=2.6.0->tensorflow_text) (3.1.1)\n",
            "Requirement already satisfied: zipp>=0.5 in /usr/local/lib/python3.7/dist-packages (from importlib-metadata->markdown>=2.6.8->tensorboard~=2.6->tensorflow<2.7,>=2.6.0->tensorflow_text) (3.6.0)\n",
            "Installing collected packages: tensorflow-text\n",
            "Successfully installed tensorflow-text-2.6.0\n"
          ]
        }
      ]
    },
    {
      "cell_type": "markdown",
      "metadata": {
        "id": "vNyiA32zVqAE"
      },
      "source": [
        "##Data Preprocessing"
      ]
    },
    {
      "cell_type": "code",
      "metadata": {
        "colab": {
          "base_uri": "https://localhost:8080/",
          "height": 204
        },
        "id": "V6v-EtdcKRju",
        "outputId": "ac53acb5-ae3e-48df-a37a-2b8097f1fd17"
      },
      "source": [
        "import pandas as pd\n",
        "df = pd.read_csv('/content/data.csv')\n",
        "df.head()"
      ],
      "execution_count": 2,
      "outputs": [
        {
          "output_type": "execute_result",
          "data": {
            "text/html": [
              "<div>\n",
              "<style scoped>\n",
              "    .dataframe tbody tr th:only-of-type {\n",
              "        vertical-align: middle;\n",
              "    }\n",
              "\n",
              "    .dataframe tbody tr th {\n",
              "        vertical-align: top;\n",
              "    }\n",
              "\n",
              "    .dataframe thead th {\n",
              "        text-align: right;\n",
              "    }\n",
              "</style>\n",
              "<table border=\"1\" class=\"dataframe\">\n",
              "  <thead>\n",
              "    <tr style=\"text-align: right;\">\n",
              "      <th></th>\n",
              "      <th>Category</th>\n",
              "      <th>Message</th>\n",
              "    </tr>\n",
              "  </thead>\n",
              "  <tbody>\n",
              "    <tr>\n",
              "      <th>0</th>\n",
              "      <td>ham</td>\n",
              "      <td>Go until jurong point, crazy.. Available only ...</td>\n",
              "    </tr>\n",
              "    <tr>\n",
              "      <th>1</th>\n",
              "      <td>ham</td>\n",
              "      <td>Ok lar... Joking wif u oni...</td>\n",
              "    </tr>\n",
              "    <tr>\n",
              "      <th>2</th>\n",
              "      <td>spam</td>\n",
              "      <td>Free entry in 2 a wkly comp to win FA Cup fina...</td>\n",
              "    </tr>\n",
              "    <tr>\n",
              "      <th>3</th>\n",
              "      <td>ham</td>\n",
              "      <td>U dun say so early hor... U c already then say...</td>\n",
              "    </tr>\n",
              "    <tr>\n",
              "      <th>4</th>\n",
              "      <td>ham</td>\n",
              "      <td>Nah I don't think he goes to usf, he lives aro...</td>\n",
              "    </tr>\n",
              "  </tbody>\n",
              "</table>\n",
              "</div>"
            ],
            "text/plain": [
              "  Category                                            Message\n",
              "0      ham  Go until jurong point, crazy.. Available only ...\n",
              "1      ham                      Ok lar... Joking wif u oni...\n",
              "2     spam  Free entry in 2 a wkly comp to win FA Cup fina...\n",
              "3      ham  U dun say so early hor... U c already then say...\n",
              "4      ham  Nah I don't think he goes to usf, he lives aro..."
            ]
          },
          "metadata": {},
          "execution_count": 2
        }
      ]
    },
    {
      "cell_type": "code",
      "metadata": {
        "colab": {
          "base_uri": "https://localhost:8080/",
          "height": 173
        },
        "id": "XCl28WJ1Ky_j",
        "outputId": "1bbbd581-1851-476a-ec18-fa558b334840"
      },
      "source": [
        "df.groupby(by='Category').describe()"
      ],
      "execution_count": 3,
      "outputs": [
        {
          "output_type": "execute_result",
          "data": {
            "text/html": [
              "<div>\n",
              "<style scoped>\n",
              "    .dataframe tbody tr th:only-of-type {\n",
              "        vertical-align: middle;\n",
              "    }\n",
              "\n",
              "    .dataframe tbody tr th {\n",
              "        vertical-align: top;\n",
              "    }\n",
              "\n",
              "    .dataframe thead tr th {\n",
              "        text-align: left;\n",
              "    }\n",
              "\n",
              "    .dataframe thead tr:last-of-type th {\n",
              "        text-align: right;\n",
              "    }\n",
              "</style>\n",
              "<table border=\"1\" class=\"dataframe\">\n",
              "  <thead>\n",
              "    <tr>\n",
              "      <th></th>\n",
              "      <th colspan=\"4\" halign=\"left\">Message</th>\n",
              "    </tr>\n",
              "    <tr>\n",
              "      <th></th>\n",
              "      <th>count</th>\n",
              "      <th>unique</th>\n",
              "      <th>top</th>\n",
              "      <th>freq</th>\n",
              "    </tr>\n",
              "    <tr>\n",
              "      <th>Category</th>\n",
              "      <th></th>\n",
              "      <th></th>\n",
              "      <th></th>\n",
              "      <th></th>\n",
              "    </tr>\n",
              "  </thead>\n",
              "  <tbody>\n",
              "    <tr>\n",
              "      <th>ham</th>\n",
              "      <td>4825</td>\n",
              "      <td>4516</td>\n",
              "      <td>Sorry, I'll call later</td>\n",
              "      <td>30</td>\n",
              "    </tr>\n",
              "    <tr>\n",
              "      <th>spam</th>\n",
              "      <td>747</td>\n",
              "      <td>641</td>\n",
              "      <td>Please call our customer service representativ...</td>\n",
              "      <td>4</td>\n",
              "    </tr>\n",
              "  </tbody>\n",
              "</table>\n",
              "</div>"
            ],
            "text/plain": [
              "         Message                                                               \n",
              "           count unique                                                top freq\n",
              "Category                                                                       \n",
              "ham         4825   4516                             Sorry, I'll call later   30\n",
              "spam         747    641  Please call our customer service representativ...    4"
            ]
          },
          "metadata": {},
          "execution_count": 3
        }
      ]
    },
    {
      "cell_type": "markdown",
      "metadata": {
        "id": "Nqekves5JoKN"
      },
      "source": [
        "The dataset is skewed towards one class, an imbalanced dataset. There are several ways to deal with this kind of problems.\n",
        "(1)Oversampling:- In which we oversample the examples of a class which has less samples.\n",
        "(2)Downsampling:- In which we Downsample(means removing examples) the class which has large samples.\n",
        "\n",
        "Since BERT is a powerfull and complex model which has millions of parameteres to be trained during the training mode, we will be using second option to deal with this problem."
      ]
    },
    {
      "cell_type": "code",
      "metadata": {
        "colab": {
          "base_uri": "https://localhost:8080/"
        },
        "id": "1BcOKXMLMV-k",
        "outputId": "8c732954-9547-405a-8155-ea2d897e638a"
      },
      "source": [
        "df.Category.value_counts()"
      ],
      "execution_count": 7,
      "outputs": [
        {
          "output_type": "execute_result",
          "data": {
            "text/plain": [
              "ham     4825\n",
              "spam     747\n",
              "Name: Category, dtype: int64"
            ]
          },
          "metadata": {},
          "execution_count": 7
        }
      ]
    },
    {
      "cell_type": "code",
      "metadata": {
        "colab": {
          "base_uri": "https://localhost:8080/"
        },
        "id": "jVo7dUKUMi3R",
        "outputId": "72e5cbf6-675d-49ee-bf5e-5d3d37496214"
      },
      "source": [
        "df_spam = df[df['Category'] == 'spam']\n",
        "df_spam.shape"
      ],
      "execution_count": 12,
      "outputs": [
        {
          "output_type": "execute_result",
          "data": {
            "text/plain": [
              "(747, 2)"
            ]
          },
          "metadata": {},
          "execution_count": 12
        }
      ]
    },
    {
      "cell_type": "code",
      "metadata": {
        "colab": {
          "base_uri": "https://localhost:8080/"
        },
        "id": "YDDE3UkNMrpQ",
        "outputId": "20ac51a4-8c5a-4966-bbc2-0135d0587097"
      },
      "source": [
        "df_ham = df[df['Category'] == 'ham']\n",
        "df_ham.shape"
      ],
      "execution_count": 13,
      "outputs": [
        {
          "output_type": "execute_result",
          "data": {
            "text/plain": [
              "(4825, 2)"
            ]
          },
          "metadata": {},
          "execution_count": 13
        }
      ]
    },
    {
      "cell_type": "code",
      "metadata": {
        "colab": {
          "base_uri": "https://localhost:8080/"
        },
        "id": "3i0Z6M3gMw7g",
        "outputId": "82d7fdae-85d8-4714-cba7-89ca8f3c83d6"
      },
      "source": [
        "df_ham_downsampled = df_ham.sample(df_spam.shape[0])\n",
        "df_ham_downsampled.shape"
      ],
      "execution_count": 14,
      "outputs": [
        {
          "output_type": "execute_result",
          "data": {
            "text/plain": [
              "(747, 2)"
            ]
          },
          "metadata": {},
          "execution_count": 14
        }
      ]
    },
    {
      "cell_type": "code",
      "metadata": {
        "colab": {
          "base_uri": "https://localhost:8080/"
        },
        "id": "XQaqoYG4NALm",
        "outputId": "b1f8af06-cede-4b2a-d275-2b938af7f70a"
      },
      "source": [
        "df_balanced = pd.concat([df_spam, df_ham_downsampled])\n",
        "df_balanced.shape"
      ],
      "execution_count": 15,
      "outputs": [
        {
          "output_type": "execute_result",
          "data": {
            "text/plain": [
              "(1494, 2)"
            ]
          },
          "metadata": {},
          "execution_count": 15
        }
      ]
    },
    {
      "cell_type": "code",
      "metadata": {
        "id": "_WNsUYJIghaa"
      },
      "source": [
        "df_balanced = df_balanced.sample(frac=1)"
      ],
      "execution_count": 16,
      "outputs": []
    },
    {
      "cell_type": "code",
      "metadata": {
        "colab": {
          "base_uri": "https://localhost:8080/",
          "height": 204
        },
        "id": "niDjjjboNN55",
        "outputId": "0186feda-992d-407f-fc5b-752b4aebf124"
      },
      "source": [
        "#add the dependent variable from the categorical variable.\n",
        "df_balanced['spam'] = df_balanced['Category'].apply(lambda x: 1 if x=='spam' else 0)\n",
        "df_balanced.sample(5)"
      ],
      "execution_count": 18,
      "outputs": [
        {
          "output_type": "execute_result",
          "data": {
            "text/html": [
              "<div>\n",
              "<style scoped>\n",
              "    .dataframe tbody tr th:only-of-type {\n",
              "        vertical-align: middle;\n",
              "    }\n",
              "\n",
              "    .dataframe tbody tr th {\n",
              "        vertical-align: top;\n",
              "    }\n",
              "\n",
              "    .dataframe thead th {\n",
              "        text-align: right;\n",
              "    }\n",
              "</style>\n",
              "<table border=\"1\" class=\"dataframe\">\n",
              "  <thead>\n",
              "    <tr style=\"text-align: right;\">\n",
              "      <th></th>\n",
              "      <th>Category</th>\n",
              "      <th>Message</th>\n",
              "      <th>spam</th>\n",
              "    </tr>\n",
              "  </thead>\n",
              "  <tbody>\n",
              "    <tr>\n",
              "      <th>236</th>\n",
              "      <td>ham</td>\n",
              "      <td>I have printed it oh. So  &amp;lt;#&amp;gt;  come upst...</td>\n",
              "      <td>0</td>\n",
              "    </tr>\n",
              "    <tr>\n",
              "      <th>3283</th>\n",
              "      <td>ham</td>\n",
              "      <td>Hey you around? I've got enough for a half + t...</td>\n",
              "      <td>0</td>\n",
              "    </tr>\n",
              "    <tr>\n",
              "      <th>2867</th>\n",
              "      <td>ham</td>\n",
              "      <td>Smith waste da.i wanna gayle.</td>\n",
              "      <td>0</td>\n",
              "    </tr>\n",
              "    <tr>\n",
              "      <th>283</th>\n",
              "      <td>ham</td>\n",
              "      <td>Ok. I asked for money how far</td>\n",
              "      <td>0</td>\n",
              "    </tr>\n",
              "    <tr>\n",
              "      <th>4158</th>\n",
              "      <td>ham</td>\n",
              "      <td>This single single answers are we fighting? Pl...</td>\n",
              "      <td>0</td>\n",
              "    </tr>\n",
              "  </tbody>\n",
              "</table>\n",
              "</div>"
            ],
            "text/plain": [
              "     Category                                            Message  spam\n",
              "236       ham  I have printed it oh. So  &lt;#&gt;  come upst...     0\n",
              "3283      ham  Hey you around? I've got enough for a half + t...     0\n",
              "2867      ham                      Smith waste da.i wanna gayle.     0\n",
              "283       ham                      Ok. I asked for money how far     0\n",
              "4158      ham  This single single answers are we fighting? Pl...     0"
            ]
          },
          "metadata": {},
          "execution_count": 18
        }
      ]
    },
    {
      "cell_type": "code",
      "metadata": {
        "id": "VGIFwFbPNjVz"
      },
      "source": [
        "#Spilitting the dataset into train, test and validation.\n",
        "from sklearn.model_selection import train_test_split\n",
        "X_train, X_rem, y_train, y_rem = train_test_split(df_balanced['Message'], df_balanced['spam'], stratify=df_balanced['spam'], train_size=0.8)\n",
        "X_valid, X_test, y_valid, y_test = train_test_split(X_rem,y_rem, stratify=y_rem, test_size=0.5)"
      ],
      "execution_count": 19,
      "outputs": []
    },
    {
      "cell_type": "markdown",
      "metadata": {
        "id": "KpaM_AAoVwOs"
      },
      "source": [
        "##Getting the BERT model from tensorflow_hub"
      ]
    },
    {
      "cell_type": "code",
      "metadata": {
        "id": "-s1YdMwiJ7vk"
      },
      "source": [
        "encoder_url = \"https://tfhub.dev/tensorflow/bert_en_uncased_L-12_H-768_A-12/4\"\n",
        "preprocess_url = \"https://tfhub.dev/tensorflow/bert_en_uncased_preprocess/3\"\n",
        "bert_preprocess = hub.KerasLayer(preprocess_url)\n",
        "bert_encoder = hub.KerasLayer(encoder_url)"
      ],
      "execution_count": 20,
      "outputs": []
    },
    {
      "cell_type": "code",
      "metadata": {
        "colab": {
          "base_uri": "https://localhost:8080/"
        },
        "id": "2T_-8P4BNy_t",
        "outputId": "b5e03ce1-8c65-4044-b435-83123b4bb3e9"
      },
      "source": [
        "def get_sentence_embedding(sentences):\n",
        "  preprocessed_text = bert_preprocess(sentences)\n",
        "  return bert_encoder(preprocessed_text)['pooled_output']\n",
        "\n",
        "get_sentence_embedding([\n",
        "    \"500$ discount. hurry up\", \n",
        "    \"Bhavin, are you up for a volleybal game tomorrow?\"]\n",
        ")"
      ],
      "execution_count": 21,
      "outputs": [
        {
          "output_type": "execute_result",
          "data": {
            "text/plain": [
              "<tf.Tensor: shape=(2, 768), dtype=float32, numpy=\n",
              "array([[-0.8435166 , -0.5132724 , -0.88845706, ..., -0.7474883 ,\n",
              "        -0.7531471 ,  0.91964483],\n",
              "       [-0.8720836 , -0.50544   , -0.9444667 , ..., -0.8584748 ,\n",
              "        -0.71745366,  0.88082993]], dtype=float32)>"
            ]
          },
          "metadata": {},
          "execution_count": 21
        }
      ]
    },
    {
      "cell_type": "markdown",
      "metadata": {
        "id": "IKMbHMMsV3a6"
      },
      "source": [
        "##Building + Training + Evaluating a custom model using BERT"
      ]
    },
    {
      "cell_type": "code",
      "metadata": {
        "colab": {
          "base_uri": "https://localhost:8080/"
        },
        "id": "ANe7_gRgQHXY",
        "outputId": "8a007b3a-f8fe-429d-e996-93ba2758d342"
      },
      "source": [
        "# Bert layers\n",
        "text_input = tf.keras.layers.Input(shape=(), dtype=tf.string, name='text')\n",
        "preprocessed_text = bert_preprocess(text_input)\n",
        "outputs = bert_encoder(preprocessed_text)\n",
        "\n",
        "# Neural network layers\n",
        "l = tf.keras.layers.Dropout(0.1, name=\"dropout\")(outputs['pooled_output'])\n",
        "l = tf.keras.layers.Dense(1, activation='sigmoid', name=\"output\")(l)\n",
        "\n",
        "# Use inputs and outputs to construct a final model\n",
        "model = tf.keras.Model(inputs=[text_input], outputs = [l])\n",
        "model.summary()"
      ],
      "execution_count": 22,
      "outputs": [
        {
          "output_type": "stream",
          "name": "stdout",
          "text": [
            "Model: \"model\"\n",
            "__________________________________________________________________________________________________\n",
            "Layer (type)                    Output Shape         Param #     Connected to                     \n",
            "==================================================================================================\n",
            "text (InputLayer)               [(None,)]            0                                            \n",
            "__________________________________________________________________________________________________\n",
            "keras_layer (KerasLayer)        {'input_type_ids': ( 0           text[0][0]                       \n",
            "__________________________________________________________________________________________________\n",
            "keras_layer_1 (KerasLayer)      {'encoder_outputs':  109482241   keras_layer[0][0]                \n",
            "                                                                 keras_layer[0][1]                \n",
            "                                                                 keras_layer[0][2]                \n",
            "__________________________________________________________________________________________________\n",
            "dropout (Dropout)               (None, 768)          0           keras_layer_1[0][13]             \n",
            "__________________________________________________________________________________________________\n",
            "output (Dense)                  (None, 1)            769         dropout[0][0]                    \n",
            "==================================================================================================\n",
            "Total params: 109,483,010\n",
            "Trainable params: 769\n",
            "Non-trainable params: 109,482,241\n",
            "__________________________________________________________________________________________________\n"
          ]
        }
      ]
    },
    {
      "cell_type": "code",
      "metadata": {
        "id": "ufDFNRobTKdW"
      },
      "source": [
        "class MyCallback(tf.keras.callbacks.Callback):\n",
        "  def on_epoch_end(self, epoch, logs={}):\n",
        "    if (logs.get('val_accuracy') >= 0.92):\n",
        "      model.stop_training = True\n",
        "\n",
        "MyCallBack_Object = MyCallback()"
      ],
      "execution_count": 23,
      "outputs": []
    },
    {
      "cell_type": "code",
      "metadata": {
        "id": "yG0WPq68RVe-"
      },
      "source": [
        "METRICS = [tf.keras.metrics.BinaryAccuracy(name='accuracy')]\n",
        "\n",
        "model.compile(optimizer='adam', loss='binary_crossentropy', metrics=METRICS)"
      ],
      "execution_count": 24,
      "outputs": []
    },
    {
      "cell_type": "code",
      "metadata": {
        "colab": {
          "base_uri": "https://localhost:8080/"
        },
        "id": "ZLe5AiRUR_HJ",
        "outputId": "b06da1c3-621e-41a9-b26a-a2e72e8ddfe4"
      },
      "source": [
        "history = model.fit(X_train, y_train, validation_data=(X_valid, y_valid), epochs=35, callbacks=[MyCallBack_Object])"
      ],
      "execution_count": 25,
      "outputs": [
        {
          "output_type": "stream",
          "name": "stdout",
          "text": [
            "Epoch 1/35\n",
            "38/38 [==============================] - 37s 708ms/step - loss: 0.6075 - accuracy: 0.6937 - val_loss: 0.5222 - val_accuracy: 0.8255\n",
            "Epoch 2/35\n",
            "38/38 [==============================] - 26s 683ms/step - loss: 0.4847 - accuracy: 0.8310 - val_loss: 0.4234 - val_accuracy: 0.8993\n",
            "Epoch 3/35\n",
            "38/38 [==============================] - 26s 682ms/step - loss: 0.4173 - accuracy: 0.8695 - val_loss: 0.3763 - val_accuracy: 0.8859\n",
            "Epoch 4/35\n",
            "38/38 [==============================] - 26s 681ms/step - loss: 0.3754 - accuracy: 0.8812 - val_loss: 0.3419 - val_accuracy: 0.8993\n",
            "Epoch 5/35\n",
            "38/38 [==============================] - 26s 679ms/step - loss: 0.3432 - accuracy: 0.8895 - val_loss: 0.3223 - val_accuracy: 0.8792\n",
            "Epoch 6/35\n",
            "38/38 [==============================] - 26s 678ms/step - loss: 0.3184 - accuracy: 0.8962 - val_loss: 0.3033 - val_accuracy: 0.8926\n",
            "Epoch 7/35\n",
            "38/38 [==============================] - 26s 679ms/step - loss: 0.3087 - accuracy: 0.9046 - val_loss: 0.2900 - val_accuracy: 0.9128\n",
            "Epoch 8/35\n",
            "38/38 [==============================] - 26s 679ms/step - loss: 0.2881 - accuracy: 0.9105 - val_loss: 0.2799 - val_accuracy: 0.9195\n",
            "Epoch 9/35\n",
            "38/38 [==============================] - 26s 681ms/step - loss: 0.2748 - accuracy: 0.9172 - val_loss: 0.2746 - val_accuracy: 0.9128\n",
            "Epoch 10/35\n",
            "38/38 [==============================] - 26s 678ms/step - loss: 0.2679 - accuracy: 0.9130 - val_loss: 0.2639 - val_accuracy: 0.8993\n",
            "Epoch 11/35\n",
            "38/38 [==============================] - 26s 683ms/step - loss: 0.2552 - accuracy: 0.9205 - val_loss: 0.2551 - val_accuracy: 0.9128\n",
            "Epoch 12/35\n",
            "38/38 [==============================] - 26s 678ms/step - loss: 0.2472 - accuracy: 0.9230 - val_loss: 0.2491 - val_accuracy: 0.9128\n",
            "Epoch 13/35\n",
            "38/38 [==============================] - 26s 678ms/step - loss: 0.2428 - accuracy: 0.9264 - val_loss: 0.2433 - val_accuracy: 0.9128\n",
            "Epoch 14/35\n",
            "38/38 [==============================] - 26s 680ms/step - loss: 0.2343 - accuracy: 0.9280 - val_loss: 0.2400 - val_accuracy: 0.9195\n",
            "Epoch 15/35\n",
            "38/38 [==============================] - 26s 678ms/step - loss: 0.2261 - accuracy: 0.9322 - val_loss: 0.2348 - val_accuracy: 0.9060\n",
            "Epoch 16/35\n",
            "38/38 [==============================] - 26s 678ms/step - loss: 0.2241 - accuracy: 0.9289 - val_loss: 0.2340 - val_accuracy: 0.8993\n",
            "Epoch 17/35\n",
            "38/38 [==============================] - 26s 680ms/step - loss: 0.2233 - accuracy: 0.9364 - val_loss: 0.2267 - val_accuracy: 0.9060\n",
            "Epoch 18/35\n",
            "38/38 [==============================] - 26s 675ms/step - loss: 0.2166 - accuracy: 0.9331 - val_loss: 0.2246 - val_accuracy: 0.9262\n"
          ]
        }
      ]
    },
    {
      "cell_type": "code",
      "metadata": {
        "id": "8i5eMRWxSC_3",
        "colab": {
          "base_uri": "https://localhost:8080/"
        },
        "outputId": "dfabc7b1-8686-4e7b-8e29-5a44fcc74f85"
      },
      "source": [
        "val_loss, val_accuracy = model.evaluate(X_test, y_test)\n",
        "print(val_accuracy)"
      ],
      "execution_count": 26,
      "outputs": [
        {
          "output_type": "stream",
          "name": "stdout",
          "text": [
            "5/5 [==============================] - 3s 560ms/step - loss: 0.2474 - accuracy: 0.9200\n",
            "0.9200000166893005\n"
          ]
        }
      ]
    },
    {
      "cell_type": "code",
      "metadata": {
        "id": "ERt7oNpMVw0Y",
        "colab": {
          "base_uri": "https://localhost:8080/"
        },
        "outputId": "41eae507-9baa-4a07-9d9f-ede39d05c276"
      },
      "source": [
        "import numpy as np\n",
        "y_predicted = np.where(model.predict(X_test).flatten() > 0.5, 1, 0)\n",
        "y_predicted"
      ],
      "execution_count": 27,
      "outputs": [
        {
          "output_type": "execute_result",
          "data": {
            "text/plain": [
              "array([0, 0, 0, 1, 0, 0, 0, 0, 0, 0, 1, 0, 0, 0, 0, 0, 0, 1, 1, 1, 0, 1,\n",
              "       0, 1, 1, 1, 1, 1, 0, 0, 0, 0, 1, 1, 1, 0, 0, 0, 0, 1, 0, 0, 0, 0,\n",
              "       1, 1, 1, 0, 1, 0, 1, 1, 0, 1, 1, 0, 0, 0, 0, 0, 0, 1, 0, 1, 1, 1,\n",
              "       0, 0, 1, 0, 0, 0, 0, 1, 1, 0, 1, 0, 0, 0, 0, 1, 0, 1, 0, 0, 1, 0,\n",
              "       1, 0, 0, 1, 0, 0, 0, 1, 0, 0, 1, 1, 1, 1, 1, 1, 0, 1, 0, 1, 1, 0,\n",
              "       0, 0, 0, 0, 0, 0, 0, 1, 1, 0, 0, 0, 0, 1, 1, 1, 0, 1, 1, 1, 1, 0,\n",
              "       1, 1, 1, 1, 0, 0, 1, 0, 1, 1, 0, 0, 1, 1, 0, 1, 0, 0])"
            ]
          },
          "metadata": {},
          "execution_count": 27
        }
      ]
    },
    {
      "cell_type": "code",
      "metadata": {
        "id": "ZJbhcxekV293",
        "colab": {
          "base_uri": "https://localhost:8080/"
        },
        "outputId": "21f56a35-efa6-4c95-db88-7c22abe4a813"
      },
      "source": [
        "from sklearn.metrics import confusion_matrix, classification_report\n",
        "\n",
        "cm = confusion_matrix(y_test, y_predicted)\n",
        "print(cm)\n",
        "print(classification_report(y_test, y_predicted))"
      ],
      "execution_count": 28,
      "outputs": [
        {
          "output_type": "stream",
          "name": "stdout",
          "text": [
            "[[74  1]\n",
            " [11 64]]\n",
            "              precision    recall  f1-score   support\n",
            "\n",
            "           0       0.87      0.99      0.93        75\n",
            "           1       0.98      0.85      0.91        75\n",
            "\n",
            "    accuracy                           0.92       150\n",
            "   macro avg       0.93      0.92      0.92       150\n",
            "weighted avg       0.93      0.92      0.92       150\n",
            "\n"
          ]
        }
      ]
    },
    {
      "cell_type": "code",
      "metadata": {
        "id": "fHedXuVZV7FZ",
        "colab": {
          "base_uri": "https://localhost:8080/",
          "height": 296
        },
        "outputId": "1ad7e816-b81a-4ca3-a5eb-c142d8da8725"
      },
      "source": [
        "from matplotlib import pyplot as plt\n",
        "import seaborn as sn\n",
        "sn.heatmap(cm, annot=True, fmt='d')\n",
        "plt.xlabel('Predicted')\n",
        "plt.ylabel('Truth')"
      ],
      "execution_count": 29,
      "outputs": [
        {
          "output_type": "execute_result",
          "data": {
            "text/plain": [
              "Text(33.0, 0.5, 'Truth')"
            ]
          },
          "metadata": {},
          "execution_count": 29
        },
        {
          "output_type": "display_data",
          "data": {
            "image/png": "[encoded data removed]",
            "text/plain": [
              "<Figure size 432x288 with 2 Axes>"
            ]
          },
          "metadata": {
            "needs_background": "light"
          }
        }
      ]
    },
    {
      "cell_type": "code",
      "metadata": {
        "colab": {
          "base_uri": "https://localhost:8080/"
        },
        "id": "NB4uA3wekvOP",
        "outputId": "2c72b1eb-7874-40ae-8b86-e45d1687e38d"
      },
      "source": [
        "reviews = [\n",
        "    'Enter a chance to win $5000, hurry up, offer valid until march 31, 2021',\n",
        "    'You are awarded a SiPix Digital Camera! call 09061221061 from landline. Delivery within 28days. T Cs Box177. M221BP. 2yr warranty. 150ppm. 16 . p pÂ£3.99',\n",
        "    'it to 80488. Your 500 free text messages are valid until 31 December 2005.',\n",
        "    'Hey Sam, Are you coming for a cricket game tomorrow',\n",
        "    \"Why don't you wait 'til at least wednesday to see if you get your .\",\n",
        "    \"I will not be available for today.\"\n",
        "    ]\n",
        "model.predict(reviews)"
      ],
      "execution_count": 31,
      "outputs": [
        {
          "output_type": "execute_result",
          "data": {
            "text/plain": [
              "array([[0.749148  ],\n",
              "       [0.8735401 ],\n",
              "       [0.7327405 ],\n",
              "       [0.10120992],\n",
              "       [0.04414837],\n",
              "       [0.08082779]], dtype=float32)"
            ]
          },
          "metadata": {},
          "execution_count": 31
        }
      ]
    },
    {
      "cell_type": "code",
      "metadata": {
        "id": "_trwidY8PVZx"
      },
      "source": [
        ""
      ],
      "execution_count": null,
      "outputs": []
    }
  ]
}